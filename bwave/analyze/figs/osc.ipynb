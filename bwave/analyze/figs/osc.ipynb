{
 "cells": [
  {
   "cell_type": "code",
   "execution_count": null,
   "id": "74541d2f",
   "metadata": {},
   "outputs": [],
   "source": [
    "%pylab inline\n",
    "from netCDF4 import Dataset\n",
    "from wrf import getvar\n",
    "import numpy as np\n",
    "import warnings\n",
    "warnings.filterwarnings('ignore')\n",
    "\n",
    "nt = 35\n",
    "nz = 100\n",
    "ny = 360\n",
    "nx = 400\n",
    "times = np.arange(nt)\n",
    "\n",
    "nc1 = Dataset('/p/work1/lloveras/bwave/20km_files/standard/setup/wrfout_osc_noslip')\n",
    "nc2 = Dataset('/p/work1/lloveras/bwave/20km_files/standard/setup/wrfout_osc_noslip2')\n",
    "\n",
    "slp1 = np.zeros((nt,ny,nx))\n",
    "slp2 = np.zeros((nt,ny,nx))\n",
    "for ti in range(nt):\n",
    "    slp1[ti,:,:] = np.asarray(getvar(nc1,'slp',timeidx=ti))\n",
    "    slp2[ti,:,:] = np.asarray(getvar(nc2,'slp',timeidx=ti))\n"
   ]
  },
  {
   "cell_type": "code",
   "execution_count": null,
   "id": "4d76a942",
   "metadata": {},
   "outputs": [],
   "source": [
    "dp1 = np.zeros(nt)\n",
    "dp2 = np.zeros(nt)\n",
    "for ti in range(nt):\n",
    "    dp1[ti] = slp1[ti,180,0] - np.mean(slp1[:,180,0])\n",
    "    dp2[ti] = slp2[ti,180,0] - np.mean(slp2[:,180,0])\n",
    "    "
   ]
  },
  {
   "cell_type": "code",
   "execution_count": null,
   "id": "7920cf79",
   "metadata": {},
   "outputs": [],
   "source": [
    "fig, axd = plt.subplot_mosaic([['right']],\n",
    "                              constrained_layout=True, figsize=(8,7))\n",
    "\n",
    "axd['right'].plot(times,dp1*100.,color='darkorange',linewidth=3.0,label='Before Averaging')\n",
    "axd['right'].plot(times,dp2*100.,color='blue',linewidth=3.0,label='After Averaging')\n",
    "axd['right'].set_ylim(-0.8,0.8)\n",
    "axd['right'].grid()\n",
    "axd['right'].legend(fontsize=20,loc=1)\n",
    "axd['right'].set_xlabel('Hour',fontsize=20,labelpad=6)\n",
    "axd['right'].xaxis.set_major_locator(MultipleLocator(6))\n",
    "axd['right'].set_ylabel('$\\Delta \\mathrm{SLP}_{cent}$ (Pa)',fontsize=20,labelpad=6)\n",
    "axd['right'].tick_params(axis='both', labelsize=20, which='major', pad=8,length=8)\n",
    "\n",
    "plt.savefig('/p/work1/lloveras/bwave/figs/osc.pdf',bbox_inches='tight')\n"
   ]
  },
  {
   "cell_type": "code",
   "execution_count": null,
   "id": "82e4220b",
   "metadata": {},
   "outputs": [],
   "source": []
  }
 ],
 "metadata": {
  "kernelspec": {
   "display_name": "Python 3 (ipykernel)",
   "language": "python",
   "name": "python3"
  },
  "language_info": {
   "codemirror_mode": {
    "name": "ipython",
    "version": 3
   },
   "file_extension": ".py",
   "mimetype": "text/x-python",
   "name": "python",
   "nbconvert_exporter": "python",
   "pygments_lexer": "ipython3",
   "version": "3.8.15"
  }
 },
 "nbformat": 4,
 "nbformat_minor": 5
}
