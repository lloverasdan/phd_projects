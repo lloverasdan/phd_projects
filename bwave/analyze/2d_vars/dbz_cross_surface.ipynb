{
 "cells": [
  {
   "cell_type": "code",
   "execution_count": null,
   "id": "d0f8e25c",
   "metadata": {},
   "outputs": [],
   "source": [
    "%pylab inline\n",
    "import warnings\n",
    "warnings.filterwarnings('ignore')\n",
    "import matplotlib.transforms as mtransforms\n",
    "\n",
    "slp_xy = np.load('/p/work1/lloveras/bwave_nov/processed/2d_vars/slp_surface_4km.npy')[6]\n",
    "dbz_xy = np.load('/p/work1/lloveras/bwave_nov/processed/2d_vars/dbz_surface_4km.npy')[6]\n",
    "\n",
    "z_cross = np.load('/p/work1/lloveras/bwave_nov/processed/2d_vars/z_cross_surface_4km.npy')\n",
    "dbz_cross = np.load('/p/work1/lloveras/bwave_nov/processed/2d_vars/dbz_cross_surface_4km.npy')\n",
    "p_cross = np.load('/p/work1/lloveras/bwave_nov/processed/2d_vars/p_cross_surface_4km.npy')\n",
    "th_cross = np.load('/p/work1/lloveras/bwave_nov/processed/2d_vars/th_cross_surface_4km.npy')\n"
   ]
  },
  {
   "cell_type": "code",
   "execution_count": null,
   "id": "002b1f01",
   "metadata": {},
   "outputs": [],
   "source": [
    "plevs = np.arange(944,1060,8)\n",
    "plabels = np.arange(944,1060,8)\n",
    "dbzlevs = np.arange(0,50,5)\n",
    "\n",
    "z1 = 0\n",
    "z2 = 100\n",
    "y1 = 50\n",
    "y2 = 225\n",
    "dx = 4\n",
    "\n",
    "zgrid = np.arange(z1,z2)\n",
    "ygrid = np.arange(y1*dx,y2*dx,dx)\n",
    "y,zmesh = np.meshgrid(ygrid,zgrid)\n",
    "\n",
    "slp_xy = np.roll(slp_xy,500)\n",
    "dbz_xy = np.roll(dbz_xy,500)\n",
    "\n",
    "y = y + 2000"
   ]
  },
  {
   "cell_type": "code",
   "execution_count": null,
   "id": "f4718e75",
   "metadata": {},
   "outputs": [],
   "source": [
    "### Make the plot\n",
    "fig, axd = plt.subplot_mosaic([['left','right'],['cbar','cbar']],\n",
    "                              constrained_layout=True, figsize=(12,6), \n",
    "                              gridspec_kw={'height_ratios':[1,0.05]},dpi=1000)\n",
    "\n",
    "trans = mtransforms.ScaledTranslation(1/25, -1/25, fig.dpi_scale_trans)\n",
    "\n",
    "cs1 = axd['left'].contour(slp_xy[500:1501,0:1001],colors='k',levels=plevs,linewidths=2,alpha=0.8)\n",
    "axd['left'].clabel(cs1,fmt='%1.0f',inline=1,levels=plabels,fontsize=10,colors='k')\n",
    "im1 = axd['left'].contourf(dbz_xy[500:1501,0:1001],levels=dbzlevs,extend='max',cmap=get_cmap('turbo'))\n",
    "axd['left'].set_xlabel('West-East (km)',fontsize=20,labelpad=6)\n",
    "axd['left'].set_xticks([0,250,500,750,1000])\n",
    "axd['left'].set_xticklabels(['0','1000','2000','3000','4000'])\n",
    "axd['left'].set_ylabel('South-North (km)',labelpad=6,fontsize=20)\n",
    "axd['left'].set_yticks([0,250,500,750,1000])\n",
    "axd['left'].set_yticklabels(['2000','3000','4000','5000','6000'])\n",
    "axd['left'].hlines(y=800-500,xmin=y1+500,xmax=y2+500,linewidths=3,color='r')\n",
    "axd['left'].tick_params(axis='both', labelsize=20, which='major', pad=8,length=8)\n",
    "axd['left'].set_aspect('equal')\n",
    "axd['left'].grid()\n",
    "\n",
    "\n",
    "im1 = axd['right'].contourf(y,z_cross[:,y1-25:y2-25]/1000.,dbz_cross[:,y1-25:y2-25],levels=dbzlevs,extend='max',cmap=get_cmap('turbo'))\n",
    "cbar1 = fig.colorbar(im1, orientation='horizontal', cax=axd['cbar'])\n",
    "cbar1.ax.tick_params(labelsize=20, pad=6)\n",
    "cs1 = axd['right'].contour(y,z_cross[:,y1-25:y2-25]/1000.,th_cross[:,y1-25:y2-25],levels=np.arange(200,560,4),colors='k',linewidths=2,alpha=0.7)\n",
    "axd['right'].clabel(cs1,fmt='%1.0f',inline=1,levels=np.arange(200,560,8),fontsize=12,colors='k')\n",
    "axd['right'].tick_params(axis='both', labelsize=20, pad=8,length=8,which='both')\n",
    "axd['right'].set_xlabel('West-East (km)',fontsize=20,labelpad=6)\n",
    "axd['right'].set_ylabel('Height (km)',fontsize=20,labelpad=6)\n",
    "axd['right'].yaxis.set_major_locator(MultipleLocator(2))\n",
    "axd['right'].yaxis.set_major_formatter(FormatStrFormatter('%d'))\n",
    "axd['right'].yaxis.set_minor_locator(MultipleLocator(1))\n",
    "axd['right'].set_ylim((0,8))\n",
    "axd['right'].xaxis.set_major_locator(MultipleLocator(200))\n",
    "axd['right'].xaxis.set_major_formatter(FormatStrFormatter('%d'))\n",
    "axd['right'].xaxis.set_minor_locator(MultipleLocator(200))\n",
    "\n",
    "plt.savefig('/p/work1/lloveras/bwave_nov/figs_nov/dbz_cross_surface.png',bbox_inches='tight')\n",
    "plt.show()"
   ]
  },
  {
   "cell_type": "code",
   "execution_count": null,
   "id": "5992f6ef",
   "metadata": {},
   "outputs": [],
   "source": []
  }
 ],
 "metadata": {
  "kernelspec": {
   "display_name": "Python 3 (ipykernel)",
   "language": "python",
   "name": "python3"
  },
  "language_info": {
   "codemirror_mode": {
    "name": "ipython",
    "version": 3
   },
   "file_extension": ".py",
   "mimetype": "text/x-python",
   "name": "python",
   "nbconvert_exporter": "python",
   "pygments_lexer": "ipython3",
   "version": "3.8.15"
  }
 },
 "nbformat": 4,
 "nbformat_minor": 5
}
