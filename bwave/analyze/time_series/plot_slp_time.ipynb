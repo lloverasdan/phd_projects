{
 "cells": [
  {
   "cell_type": "code",
   "execution_count": null,
   "id": "74aab0a7",
   "metadata": {},
   "outputs": [],
   "source": [
    "%pylab inline\n",
    "import warnings\n",
    "warnings.filterwarnings('ignore')\n",
    "from netCDF4 import Dataset\n",
    "from wrf import getvar\n",
    "\n",
    "nt = 33\n",
    "times = np.arange(nt)*6/24\n",
    "\n",
    "# noshear_moist_20km = np.load('/p/work1/lloveras/bwave/processed/slp_time/noshear_moist_20km.npy')\n",
    "# noshear_dry_20km = np.load('/p/work1/lloveras/bwave/processed/slp_time/noshear_dry_20km.npy')\n",
    "# anticyc_moist_20km = np.load('/p/work1/lloveras/bwave/processed/slp_time/anticyc_moist_20km.npy')\n",
    "# anticyc_dry_20km = np.load('/p/work1/lloveras/bwave/processed/slp_time/anticyc_dry_20km.npy')\n",
    "# noshear_4km = np.load('/p/work1/lloveras/bwave/processed/slp_time/noshear_4km.npy')\n",
    "# anticyc_4km = np.load('/p/work1/lloveras/bwave/processed/slp_time/anticyc_4km.npy')\n"
   ]
  },
  {
   "cell_type": "code",
   "execution_count": null,
   "id": "e10be9d5",
   "metadata": {},
   "outputs": [],
   "source": [
    "fig, axd = plt.subplot_mosaic([['left','right']],\n",
    "                              constrained_layout=True, figsize=(17,6.0))\n",
    "\n",
    "axd['left'].plot(times,noshear_dry_20km,color='orange',linewidth=3.0,label='Dry')\n",
    "axd['left'].plot(times,noshear_moist_20km,color='green',linewidth=3.0,label='20 km')\n",
    "axd['left'].plot(times,noshear_4km,color='blue',linewidth=3.0,label='4 km')\n",
    "axd['left'].legend(fontsize=20)\n",
    "axd['left'].grid()\n",
    "axd['left'].set_ylim([-75,5])\n",
    "axd['left'].set_title('No Shear',fontsize=20,pad=12)\n",
    "axd['left'].set_xlabel('Day',fontsize=20,labelpad=6)\n",
    "axd['left'].set_ylabel('Min SLP Pert (hPa)',fontsize=20,labelpad=6)\n",
    "axd['left'].tick_params(axis='both', labelsize=20, which='major', pad=8,length=8)\n",
    "\n",
    "axd['right'].plot(times,anticyc_dry_20km,color='orange',linewidth=3.0)\n",
    "axd['right'].plot(times,anticyc_moist_20km,color='green',linewidth=3.0)\n",
    "axd['right'].plot(times,anticyc_4km,color='blue',linewidth=3.0)\n",
    "axd['right'].grid()\n",
    "axd['right'].set_ylim([-75,5])\n",
    "axd['right'].set_title('Anticyclonic Shear',fontsize=20,pad=12)\n",
    "axd['right'].set_xlabel('Day',fontsize=20,labelpad=6)\n",
    "axd['right'].set_yticklabels(['','','','','','',''])\n",
    "axd['right'].tick_params(axis='both', labelsize=20, which='major', pad=8,length=8)\n"
   ]
  }
 ],
 "metadata": {
  "kernelspec": {
   "display_name": "Python 3 (ipykernel)",
   "language": "python",
   "name": "python3"
  },
  "language_info": {
   "codemirror_mode": {
    "name": "ipython",
    "version": 3
   },
   "file_extension": ".py",
   "mimetype": "text/x-python",
   "name": "python",
   "nbconvert_exporter": "python",
   "pygments_lexer": "ipython3",
   "version": "3.8.15"
  }
 },
 "nbformat": 4,
 "nbformat_minor": 5
}
