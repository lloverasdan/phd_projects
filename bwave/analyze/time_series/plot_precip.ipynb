{
 "cells": [
  {
   "cell_type": "code",
   "execution_count": null,
   "id": "d8b1ccd2",
   "metadata": {},
   "outputs": [],
   "source": [
    "%pylab inline\n",
    "import warnings\n",
    "warnings.filterwarnings('ignore')\n",
    "\n",
    "nt = 32\n",
    "times = (np.arange(nt)*6 + 6)/24\n",
    "\n",
    "nx_4km = 2000\n",
    "ny_4km = 1800\n",
    "nx_20km = 400\n",
    "ny_20km = 360\n",
    "\n",
    "avg_noshear_20km = np.load('/p/work1/lloveras/bwave/processed/precip_avg/noshear_20km.npy')\n",
    "avg_anticyc_20km = np.load('/p/work1/lloveras/bwave/processed/precip_avg/anticyc_20km.npy')\n",
    "avg_noshear_4km = np.load('/p/work1/lloveras/bwave/processed/precip_avg/noshear_4km.npy')\n",
    "avg_anticyc_4km = np.load('/p/work1/lloveras/bwave/processed/precip_avg/anticyc_4km.npy')\n",
    "\n",
    "area_noshear_20km = np.load('/p/work1/lloveras/bwave/processed/precip_area/noshear_20km.npy')/(nx_20km*ny_20km)\n",
    "area_anticyc_20km = np.load('/p/work1/lloveras/bwave/processed/precip_area/anticyc_20km.npy')/(nx_20km*ny_20km)\n",
    "area_noshear_4km = np.load('/p/work1/lloveras/bwave/processed/precip_area/noshear_4km.npy')/(nx_4km*ny_4km)\n",
    "area_anticyc_4km = np.load('/p/work1/lloveras/bwave/processed/precip_area/anticyc_4km.npy')/(nx_4km*ny_4km)\n"
   ]
  },
  {
   "cell_type": "code",
   "execution_count": null,
   "id": "2625882b",
   "metadata": {},
   "outputs": [],
   "source": [
    "fig, axd = plt.subplot_mosaic([['left','right']],\n",
    "                              constrained_layout=True, figsize=(18,6.0))\n",
    "\n",
    "axd['left'].plot(times,avg_noshear_4km,color='orange',linewidth=3.0,label='No Shear')\n",
    "axd['left'].plot(times,avg_noshear_20km,color='orange',linewidth=3.0,linestyle='dashed')\n",
    "axd['left'].plot(times,avg_anticyc_4km,color='blue',linewidth=3.0,label='Anticyclonic')\n",
    "axd['left'].plot(times,avg_anticyc_20km,color='blue',linewidth=3.0,linestyle='dashed')\n",
    "axd['left'].legend(fontsize=20)\n",
    "axd['left'].grid()\n",
    "axd['left'].set_title('Precip Rate',fontsize=20,pad=12)\n",
    "axd['left'].set_xlabel('Day',fontsize=20,labelpad=6)\n",
    "axd['left'].set_ylabel('Avg Precip Rate (mm/h)',fontsize=20,labelpad=6)\n",
    "axd['left'].tick_params(axis='both', labelsize=20, which='major', pad=8,length=8)\n",
    "\n",
    "axd['right'].plot(times,area_noshear_4km,color='orange',linewidth=3.0,label='No Shear')\n",
    "axd['right'].plot(times,area_noshear_20km,color='orange',linewidth=3.0,linestyle='dashed')\n",
    "axd['right'].plot(times,area_anticyc_4km,color='blue',linewidth=3.0,label='Anticyclonic')\n",
    "axd['right'].plot(times,area_anticyc_20km,color='blue',linewidth=3.0,linestyle='dashed')\n",
    "axd['right'].grid()\n",
    "axd['right'].set_title('Portion of domain with precip',fontsize=20,pad=12)\n",
    "axd['right'].set_xlabel('Day',fontsize=20,labelpad=6)\n",
    "axd['right'].set_ylabel('Fraction',fontsize=20,labelpad=6)\n",
    "axd['right'].tick_params(axis='both', labelsize=20, which='major', pad=8,length=8)\n"
   ]
  },
  {
   "cell_type": "code",
   "execution_count": null,
   "id": "a4d0cdb7",
   "metadata": {},
   "outputs": [],
   "source": []
  }
 ],
 "metadata": {
  "kernelspec": {
   "display_name": "Python 3 (ipykernel)",
   "language": "python",
   "name": "python3"
  },
  "language_info": {
   "codemirror_mode": {
    "name": "ipython",
    "version": 3
   },
   "file_extension": ".py",
   "mimetype": "text/x-python",
   "name": "python",
   "nbconvert_exporter": "python",
   "pygments_lexer": "ipython3",
   "version": "3.8.15"
  }
 },
 "nbformat": 4,
 "nbformat_minor": 5
}
