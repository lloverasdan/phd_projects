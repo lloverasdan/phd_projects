{
 "cells": [
  {
   "cell_type": "code",
   "execution_count": null,
   "metadata": {},
   "outputs": [],
   "source": [
    "import numpy as np\n",
    "import xarray as xr\n",
    "\n",
    "import matplotlib\n",
    "import matplotlib.pyplot as plt\n",
    "import cartopy\n",
    "import cartopy.crs as ccrs\n",
    "\n",
    "import wps_domain\n",
    "from cartopy.feature import NaturalEarthFeature\n",
    "\n",
    "import warnings\n",
    "warnings.filterwarnings('ignore')\n"
   ]
  },
  {
   "cell_type": "code",
   "execution_count": null,
   "metadata": {},
   "outputs": [],
   "source": [
    "WPSFile = '/p/work1/lloveras/real/wrf/nov2018/WPS_15km/namelist.wps'\n",
    "wpsproj, latlonproj, corner_lat_full, corner_lon_full, length_x, length_y = wps_domain.calc_wps_domain_info(WPSFile)\n",
    "\n",
    "# Create a figure\n",
    "fig = plt.figure(figsize=(8,6))\n",
    "\n",
    "# Set the GeoAxes to the projection used by WRF\n",
    "ax = plt.axes(projection=wpsproj)\n",
    "\n",
    "# d01\n",
    "corner_x1, corner_y1 = wps_domain.reproject_corners(corner_lon_full[0,:], corner_lat_full[0,:], wpsproj, latlonproj)\n",
    "ax.set_xlim([corner_x1[0]-length_x[0]/15, corner_x1[3]+length_x[0]/15])\n",
    "ax.set_ylim([corner_y1[1]-length_y[0]/15, corner_y1[3]+length_y[0]/15])\n",
    "\n",
    "# Download and add the states and coastlines\n",
    "states = NaturalEarthFeature(category=\"cultural\", scale=\"50m\",\n",
    "                             facecolor=\"none\",\n",
    "                             name=\"admin_1_states_provinces\")\n",
    "ax.add_feature(states, linewidth=.5, edgecolor=\"black\")\n",
    "ax.coastlines('50m', linewidth=0.8)\n",
    "\n",
    "\n",
    "# Add the gridlines\n",
    "gls = ax.gridlines(draw_labels=True, dms=True, x_inline=False, y_inline=False)\n",
    "gls.top_labels=True\n",
    "\n",
    "plt.show()\n"
   ]
  },
  {
   "cell_type": "code",
   "execution_count": null,
   "metadata": {},
   "outputs": [],
   "source": []
  }
 ],
 "metadata": {
  "anaconda-cloud": {},
  "kernelspec": {
   "display_name": "Python 3 (ipykernel)",
   "language": "python",
   "name": "python3"
  },
  "language_info": {
   "codemirror_mode": {
    "name": "ipython",
    "version": 3
   },
   "file_extension": ".py",
   "mimetype": "text/x-python",
   "name": "python",
   "nbconvert_exporter": "python",
   "pygments_lexer": "ipython3",
   "version": "3.8.15"
  }
 },
 "nbformat": 4,
 "nbformat_minor": 1
}
