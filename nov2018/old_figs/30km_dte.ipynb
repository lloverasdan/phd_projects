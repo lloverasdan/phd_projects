{
 "cells": [
  {
   "cell_type": "code",
   "execution_count": null,
   "id": "c3f7e90e",
   "metadata": {},
   "outputs": [],
   "source": [
    "%pylab inline\n",
    "import matplotlib\n",
    "import matplotlib.pyplot as plt\n",
    "import numpy as np\n",
    "from matplotlib.ticker import MultipleLocator\n",
    "import warnings\n",
    "warnings.filterwarnings('ignore')\n",
    "import matplotlib.transforms as mtransforms\n",
    "\n",
    "time = np.arange(0,25)*3\n",
    "\n",
    "dte_full = np.load('/p/work1/lloveras/nov2018/proc_oct/30km_files/adj_full/dte.npy')\n",
    "dte_large = np.load('/p/work1/lloveras/nov2018/proc_oct/30km_files/adj_large/dte.npy')\n",
    "dte_small = np.load('/p/work1/lloveras/nov2018/proc_oct/30km_files/adj_small/dte.npy')\n",
    "dte_box = np.load('/p/work1/lloveras/nov2018/proc_oct/30km_files/adj_box/dte.npy')\n",
    "dte_hole = np.load('/p/work1/lloveras/nov2018/proc_oct/30km_files/adj_hole/dte.npy')\n",
    "dte_cape_box = np.load('/p/work1/lloveras/nov2018/proc_oct/30km_files/adj_cape_box/dte.npy')\n",
    "dte_cape_hole = np.load('/p/work1/lloveras/nov2018/proc_oct/30km_files/adj_cape_hole/dte.npy')\n"
   ]
  },
  {
   "cell_type": "code",
   "execution_count": null,
   "id": "970244c6",
   "metadata": {},
   "outputs": [],
   "source": [
    "fig, axd = plt.subplot_mosaic([['right']],\n",
    "                              constrained_layout=True, figsize=(6,5.5),dpi=200)\n",
    "\n",
    "trans = mtransforms.ScaledTranslation(1/15, -1/15, fig.dpi_scale_trans)\n",
    "\n",
    "axd['right'].plot(time,dte_full/1e7,color='k',label='Full',linewidth=2.5)\n",
    "axd['right'].plot(time,dte_box/1e7,color='b',linestyle='dashed',label='Target',linewidth=2.5)\n",
    "axd['right'].plot(time,dte_hole/1e7,color='b',label='Target$^\\complement$',linewidth=2.5)\n",
    "axd['right'].plot(time,dte_small/1e7,color='orange',linestyle='dashed',label='Short $\\lambda$',linewidth=2.5)\n",
    "axd['right'].plot(time,dte_large/1e7,color='orange',label='Long $\\lambda$',linewidth=2.5)\n",
    "axd['right'].set_xlabel('Lead Time (h)',labelpad=6,fontsize=20)\n",
    "axd['right'].set_ylabel('DTE (10$^7$ m$^2$ s$^{-2}$)',labelpad=6,fontsize=20)\n",
    "axd['right'].xaxis.set_major_locator(MultipleLocator(12))\n",
    "axd['right'].xaxis.set_minor_locator(MultipleLocator(6))\n",
    "axd['right'].tick_params(axis='both',labelsize=20,which='both',direction='in',length=4,width=1)\n",
    "axd['right'].grid(linewidth=1.5)\n",
    "axd['right'].legend(prop={\"size\":18},ncols=1)\n",
    "\n",
    "plt.savefig('/p/work1/lloveras/nov2018/figs_pdf/figr1_wrf_30km_dte.pdf',bbox_inches='tight')\n",
    "plt.show()"
   ]
  },
  {
   "cell_type": "code",
   "execution_count": null,
   "id": "d645ddba",
   "metadata": {},
   "outputs": [],
   "source": []
  }
 ],
 "metadata": {
  "kernelspec": {
   "display_name": "base",
   "language": "python",
   "name": "python3"
  },
  "language_info": {
   "codemirror_mode": {
    "name": "ipython",
    "version": 3
   },
   "file_extension": ".py",
   "mimetype": "text/x-python",
   "name": "python",
   "nbconvert_exporter": "python",
   "pygments_lexer": "ipython3",
   "version": "3.11.7"
  }
 },
 "nbformat": 4,
 "nbformat_minor": 5
}
