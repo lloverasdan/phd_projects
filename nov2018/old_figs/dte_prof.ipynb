{
 "cells": [
  {
   "cell_type": "code",
   "execution_count": null,
   "id": "04fff67c",
   "metadata": {},
   "outputs": [],
   "source": [
    "### Import libraries\n",
    "from netCDF4 import Dataset\n",
    "import xarray as xr\n",
    "import numpy as np\n",
    "import cartopy.crs as crs\n",
    "import matplotlib\n",
    "from matplotlib.cm import get_cmap\n",
    "import matplotlib.pyplot as plt\n",
    "from wrf import getvar, interplevel, smooth2d\n",
    "import warnings\n",
    "from scipy.interpolate import griddata\n",
    "from matplotlib.cm import get_cmap\n",
    "import cartopy.crs as crs\n",
    "from cartopy.feature import NaturalEarthFeature\n",
    "warnings.filterwarnings('ignore')\n",
    "import matplotlib.transforms as mtransforms\n",
    "import matplotlib.ticker as mticker\n",
    "from matplotlib.ticker import MultipleLocator\n",
    "\n",
    "CP = 1005.7\n",
    "RD = 287.04\n",
    "P0 = 1000.\n",
    "TR = 300.\n",
    "LV = 2.501e6\n",
    "EPS = 1.\n"
   ]
  },
  {
   "cell_type": "code",
   "execution_count": null,
   "id": "5eb6872c",
   "metadata": {},
   "outputs": [],
   "source": [
    "### Parameters\n",
    "nx = 400\n",
    "ny = 250\n",
    "nz = 44\n",
    "levs = np.arange(100,1010,10)\n",
    "\n",
    "### Read in the data\n",
    "ctl = Dataset('/p/work1/lloveras/nov2018/30km_files/ctl/wrfout_d01_2018-11-13_12_00_00')\n",
    "adj = Dataset('/p/work1/lloveras/nov2018/30km_files/adj_full/wrfout_d01_2018-11-13_12_00_00')\n",
    "\n",
    "### Pressure\n",
    "p_ctl = np.asarray(getvar(ctl,'pressure'))\n",
    "p_adj = np.asarray(getvar(adj,'pressure'))\n",
    "p_avg = (p_ctl + p_adj)/2\n",
    "\n",
    "### Theta\n",
    "t_ctl = np.asarray(getvar(ctl,'THM')) + TR\n",
    "t_adj = np.asarray(getvar(adj,'THM')) + TR\n",
    "tk_ctl = t_ctl/((P0/p_ctl)**(RD/CP))\n",
    "tk_adj = t_adj/((P0/p_adj)**(RD/CP))\n",
    "dt = tk_adj - tk_ctl\n",
    "\n",
    "### U\n",
    "u_ctl = np.asarray(getvar(ctl,'ua'))\n",
    "u_adj = np.asarray(getvar(adj,'ua'))\n",
    "du = u_adj - u_ctl\n",
    "\n",
    "### V\n",
    "v_ctl = np.asarray(getvar(ctl,'va'))\n",
    "v_adj = np.asarray(getvar(adj,'va'))\n",
    "dv = v_adj - v_ctl\n",
    "\n",
    "### DTE\n",
    "dte = du**2 + dv**2 + (CP/TR)*dt**2\n",
    "dte_p = np.asarray(interplevel(dte, p_avg, levs))\n",
    "dte_prof = np.nanmean(dte_p,axis=(1,2))"
   ]
  },
  {
   "cell_type": "code",
   "execution_count": null,
   "id": "6d98a347",
   "metadata": {},
   "outputs": [],
   "source": [
    "np.amax(np.sqrt(du**2 + dv**2))"
   ]
  },
  {
   "cell_type": "code",
   "execution_count": null,
   "id": "b2d4e2d4",
   "metadata": {},
   "outputs": [],
   "source": [
    "fig, axd = plt.subplot_mosaic([['left']],\n",
    "                              constrained_layout=True, figsize=(6,5),dpi=200)\n",
    "\n",
    "\n",
    "axd['left'].plot(dte_prof,levs,color='blue',linewidth=3.2)\n",
    "axd['left'].grid()\n",
    "axd['left'].set_xlabel('DTE (m$^2$ s$^{-2}$)',fontsize=18,labelpad=6)\n",
    "axd['left'].yaxis.set_major_locator(MultipleLocator(100))\n",
    "axd['left'].yaxis.set_minor_locator(MultipleLocator(50))\n",
    "axd['left'].set_ylim([1050,50])\n",
    "axd['left'].set_ylabel('Pressure (hPa)',fontsize=18,labelpad=6)\n",
    "axd['left'].tick_params(axis='both', labelsize=18, which='major', pad=8,length=8)\n",
    "axd['left'].tick_params(axis='both', which='minor', length=4)\n",
    "\n",
    "plt.savefig('/p/work1/lloveras/nov2018/figs_png/dte_perts.png',bbox_inches='tight')"
   ]
  },
  {
   "cell_type": "code",
   "execution_count": null,
   "id": "2ec5a9dd",
   "metadata": {},
   "outputs": [],
   "source": []
  }
 ],
 "metadata": {
  "kernelspec": {
   "display_name": "Python 3 (ipykernel)",
   "language": "python",
   "name": "python3"
  },
  "language_info": {
   "codemirror_mode": {
    "name": "ipython",
    "version": 3
   },
   "file_extension": ".py",
   "mimetype": "text/x-python",
   "name": "python",
   "nbconvert_exporter": "python",
   "pygments_lexer": "ipython3",
   "version": "3.11.7"
  }
 },
 "nbformat": 4,
 "nbformat_minor": 5
}
