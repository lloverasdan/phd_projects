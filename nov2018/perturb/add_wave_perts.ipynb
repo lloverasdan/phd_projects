{
 "cells": [
  {
   "cell_type": "code",
   "execution_count": null,
   "id": "c91edcd9",
   "metadata": {},
   "outputs": [],
   "source": [
    "### Import libraries\n",
    "from netCDF4 import Dataset\n",
    "import xarray as xr\n",
    "import numpy as np\n",
    "import cartopy.crs as crs\n",
    "import matplotlib\n",
    "from matplotlib.cm import get_cmap\n",
    "import matplotlib.pyplot as plt\n",
    "from wrf import getvar, destagger, ll_to_xy\n",
    "import warnings\n",
    "from scipy.interpolate import griddata\n",
    "from matplotlib.cm import get_cmap\n",
    "import cartopy.crs as crs\n",
    "from cartopy.feature import NaturalEarthFeature\n",
    "warnings.filterwarnings('ignore')\n",
    "states = NaturalEarthFeature(category=\"cultural\", scale=\"50m\",\n",
    "                             facecolor=\"none\",\n",
    "                             name=\"admin_1_states_provinces\")\n",
    "\n",
    "nx = 3000\n",
    "ny = 1875\n",
    "nz = 59\n",
    "dx = 4000\n",
    "G = 9.81\n",
    "a = 0.1\n",
    "h = 0.1\n",
    "l = 32000\n"
   ]
  },
  {
   "cell_type": "code",
   "execution_count": null,
   "id": "2e66dcb9",
   "metadata": {},
   "outputs": [],
   "source": [
    "### Compute the perturbations\n",
    "rst_dir = '/p/work1/lloveras/real/jan2022/wrf/4km_files/wave/wrfrst_d01_2022-01-27_00_00_00'\n",
    "ds = xr.open_dataset(rst_dir)\n",
    "\n",
    "xg = np.zeros((ny,nx))\n",
    "for i in range(int(nx/2),nx):\n",
    "    xg[:,i] = xg[:,i-1] + dx/ds['MAPFAC_MX'][0,:,i]\n",
    "\n",
    "for i in range(int(nx/2)-1,-1,-1):\n",
    "    xg[:,i] = xg[:,i+1] - dx/ds['MAPFAC_MX'][0,:,i]\n",
    "    \n",
    "xg = xg - np.amin(xg)\n",
    "\n",
    "yg = np.zeros((ny,nx))\n",
    "for j in range(int(ny/2),ny):\n",
    "    yg[j,:] = yg[j-1,:] + dx/ds['MAPFAC_MY'][0,j,:]\n",
    "\n",
    "for j in range(int(ny/2)-1,-1,-1):\n",
    "    yg[j,:] = yg[j+1,:] - dx/ds['MAPFAC_MY'][0,j,:]\n",
    "    \n",
    "yg = yg - np.amin(yg)\n",
    "\n",
    "z = np.asarray(ds['ZNU'][0])\n",
    "\n",
    "pert = np.zeros((nz,ny,nx))\n",
    "for k in range(nz):\n",
    "    pert[k,:,:] = a*np.exp(-z[k]/h)*np.sin(2*np.pi*xg/l)*np.sin(2*np.pi*yg/l)\n",
    "\n",
    "pert = np.flip(pert, axis=0)\n"
   ]
  },
  {
   "cell_type": "code",
   "execution_count": null,
   "id": "31d17437",
   "metadata": {},
   "outputs": [],
   "source": [
    "### Add the perturbations\n",
    "ncfile = Dataset(rst_dir,'r+')\n",
    "th1 = np.asarray(ncfile.variables['THM_1'][0,:,:,:])\n",
    "th2 = np.asarray(ncfile.variables['THM_2'][0,:,:,:])\n",
    "ncfile.variables['THM_1'][0,:,:,:] = th1 + pert\n",
    "ncfile.variables['THM_2'][0,:,:,:] = th2 + pert\n",
    "ncfile.close()\n"
   ]
  }
 ],
 "metadata": {
  "kernelspec": {
   "display_name": "Python 3 (ipykernel)",
   "language": "python",
   "name": "python3"
  },
  "language_info": {
   "codemirror_mode": {
    "name": "ipython",
    "version": 3
   },
   "file_extension": ".py",
   "mimetype": "text/x-python",
   "name": "python",
   "nbconvert_exporter": "python",
   "pygments_lexer": "ipython3",
   "version": "3.8.15"
  }
 },
 "nbformat": 4,
 "nbformat_minor": 5
}
