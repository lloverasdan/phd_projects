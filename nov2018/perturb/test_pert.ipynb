{
 "cells": [
  {
   "cell_type": "code",
   "execution_count": null,
   "metadata": {},
   "outputs": [],
   "source": [
    "### Matplotlib\n",
    "import matplotlib.pyplot as plt\n",
    "from matplotlib.cm import get_cmap\n",
    "\n",
    "### Cartopy\n",
    "import cartopy.crs as crs\n",
    "import cartopy.feature as cfeature\n",
    "\n",
    "### Data\n",
    "import numpy as np\n",
    "\n",
    "### Warnings\n",
    "import warnings\n",
    "warnings.filterwarnings('ignore')\n",
    "\n"
   ]
  },
  {
   "cell_type": "code",
   "execution_count": null,
   "metadata": {},
   "outputs": [],
   "source": [
    "dir = '/p/work1/lloveras/COAMPS/fwd_2015feb11/atm/'\n",
    "nx = 80\n",
    "ny = 80\n",
    "lats = np.fromfile(dir + 'latitu_sfc_000000_000000_1a0080x0080_2015021112_00000000_fcstfld', dtype='>f4')\n",
    "lats = np.reshape(lats, [ny, nx])\n",
    "\n",
    "lons = np.fromfile(dir + 'longit_sfc_000000_000000_1a0080x0080_2015021112_00000000_fcstfld', dtype='>f4')\n",
    "lons = np.reshape(lons, [ny, nx])\n",
    "lons[lons > 180] -= 360"
   ]
  }
 ],
 "metadata": {
  "kernelspec": {
   "display_name": "base",
   "language": "python",
   "name": "python3"
  },
  "language_info": {
   "codemirror_mode": {
    "name": "ipython",
    "version": 3
   },
   "file_extension": ".py",
   "mimetype": "text/x-python",
   "name": "python",
   "nbconvert_exporter": "python",
   "pygments_lexer": "ipython3",
   "version": "3.11.7"
  }
 },
 "nbformat": 4,
 "nbformat_minor": 2
}
