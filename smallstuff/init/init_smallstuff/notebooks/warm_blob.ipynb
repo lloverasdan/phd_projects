{
 "cells": [
  {
   "cell_type": "code",
   "execution_count": null,
   "metadata": {},
   "outputs": [],
   "source": [
    "from netCDF4 import Dataset\n",
    "import numpy as np\n",
    "import matplotlib.pyplot as plt\n",
    "from wrf import getvar\n",
    "ncfile = Dataset('/p/work1/lloveras/adj/in_files/wrfin_blob_moist','r+')"
   ]
  },
  {
   "cell_type": "code",
   "execution_count": null,
   "metadata": {},
   "outputs": [],
   "source": [
    "temp = ncfile.variables['T'][0,:,:,:]\n",
    "qv0 = ncfile.variables['QVAPOR'][0,:,:,:]\n",
    "nz = temp.shape[0]\n",
    "ny = temp.shape[1]\n",
    "nx = temp.shape[2]\n",
    "rh0 = getvar(ncfile,'rh')\n",
    "qs0 = qv0*100/rh0"
   ]
  },
  {
   "cell_type": "code",
   "execution_count": null,
   "metadata": {},
   "outputs": [],
   "source": [
    "pert_blob = np.zeros((nz,ny,nx))\n",
    "dz = 0.444444\n",
    "dx = 30.\n",
    "h = 1.0\n",
    "xnot = 117\n",
    "ynot = 87\n",
    "ax = 200\n",
    "ay = 200\n",
    "a_blob = 1.6\n",
    "\n",
    "for x in range(nx):\n",
    "    for y in range(ny):\n",
    "        for z in range(nz):\n",
    "            r = np.sqrt(((x - xnot)*dx/ax)**2 + ((y - ynot)*dx/ay)**2)\n",
    "            if r > np.pi/2: r = np.pi/2.\n",
    "            pert_blob[z,y,x] = a_blob*np.exp(-z*dz/h)*np.cos(-r)"
   ]
  },
  {
   "cell_type": "code",
   "execution_count": null,
   "metadata": {},
   "outputs": [],
   "source": [
    "ncfile.variables['T'][0,:,:,:] = temp + pert_blob"
   ]
  },
  {
   "cell_type": "code",
   "execution_count": null,
   "metadata": {},
   "outputs": [],
   "source": [
    "rhf = getvar(ncfile,'rh')\n",
    "qsf = qv0*100/rhf\n",
    "qv_pert = qsf - qs0"
   ]
  },
  {
   "cell_type": "code",
   "execution_count": null,
   "metadata": {},
   "outputs": [],
   "source": [
    "ncfile.variables['QVAPOR'][0,:,:,:] = qv0 + qv_pert"
   ]
  },
  {
   "cell_type": "code",
   "execution_count": null,
   "metadata": {},
   "outputs": [],
   "source": [
    "ncfile.close()"
   ]
  },
  {
   "cell_type": "code",
   "execution_count": null,
   "metadata": {},
   "outputs": [],
   "source": []
  }
 ],
 "metadata": {
  "kernelspec": {
   "display_name": "Python 3",
   "language": "python",
   "name": "python3"
  },
  "language_info": {
   "codemirror_mode": {
    "name": "ipython",
    "version": 3
   },
   "file_extension": ".py",
   "mimetype": "text/x-python",
   "name": "python",
   "nbconvert_exporter": "python",
   "pygments_lexer": "ipython3",
   "version": "3.8.5"
  }
 },
 "nbformat": 4,
 "nbformat_minor": 4
}
