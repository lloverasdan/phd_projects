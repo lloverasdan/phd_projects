{
 "cells": [
  {
   "cell_type": "code",
   "execution_count": null,
   "metadata": {},
   "outputs": [],
   "source": [
    "import netCDF4 as nc\n",
    "from wrf import getvar, destagger\n",
    "import numpy as np"
   ]
  },
  {
   "cell_type": "code",
   "execution_count": null,
   "metadata": {},
   "outputs": [],
   "source": [
    "file_name = '/p/work1/lloveras/many_times_adj/files_for_jim/bw_jul4_96h.nc'\n",
    "netcdf_type = 'NETCDF3_64BIT_OFFSET'\n",
    "ncfile = nc.Dataset(file_name,'w',format=netcdf_type)\n",
    "wrf_file = nc.Dataset('/p/work1/lloveras/many_times_adj/out_files/wrfout_15000km')\n",
    "\n",
    "nx = 500\n",
    "ny = 240\n",
    "nz = 100\n",
    "G = 9.81\n",
    "T0 = 300\n",
    "ti = 16"
   ]
  },
  {
   "cell_type": "code",
   "execution_count": null,
   "metadata": {},
   "outputs": [],
   "source": [
    "#z = (destagger(np.asarray(getvar(wrf_file,'PH_2')) + np.asarray(getvar(wrf_file,'PHB')),-3))/G\n",
    "#u = destagger(np.asarray(getvar(wrf_file,'U_2')),-1)\n",
    "#v = destagger(np.asarray(getvar(wrf_file,'V_2')),-2)\n",
    "#t = np.asarray(getvar(wrf_file,'T_2')) + T0\n",
    "#p = np.asarray(getvar(wrf_file,'P')) + np.asarray(getvar(wrf_file,'PB'))\n",
    "#qv = np.asarray(getvar(wrf_file,'QVAPOR'))\n",
    "\n",
    "z = np.asarray(getvar(wrf_file,'z',timeidx=ti))\n",
    "u = np.asarray(getvar(wrf_file,'ua',timeidx=ti))\n",
    "v = np.asarray(getvar(wrf_file,'va',timeidx=ti))\n",
    "t = np.asarray(getvar(wrf_file,'th',timeidx=ti))\n",
    "p = np.asarray(getvar(wrf_file,'p',timeidx=ti))\n",
    "qv = np.asarray(getvar(wrf_file,'QVAPOR',timeidx=ti))"
   ]
  },
  {
   "cell_type": "code",
   "execution_count": null,
   "metadata": {},
   "outputs": [],
   "source": [
    "ncfile.createDimension('Time',None)\n",
    "ncfile.createDimension('west_east',nx)\n",
    "ncfile.createDimension('south_north',ny)\n",
    "ncfile.createDimension('bottom_top',nz)\n",
    "\n",
    "### Vertical levels\n",
    "Z = ncfile.createVariable('Z','f4',('Time','bottom_top','south_north','west_east'))\n",
    "Z.FieldType = 104\n",
    "Z.MemoryOrder = \"XYZ\"\n",
    "Z.description = \"height\"\n",
    "Z.units = \"m\"\n",
    "\n",
    "### X-wind component\n",
    "U = ncfile.createVariable('U','f4',('Time','bottom_top','south_north','west_east'))\n",
    "U.FieldType = 104\n",
    "U.MemoryOrder = \"XYZ\"\n",
    "U.description = \"zonal wind\"\n",
    "U.units = \"m s-1\"\n",
    "\n",
    "### Y-wind component\n",
    "V = ncfile.createVariable('V','f4',('Time','bottom_top','south_north','west_east'))\n",
    "V.FieldType = 104\n",
    "V.MemoryOrder = \"XYZ\"\n",
    "V.description = \"meridional wind\"\n",
    "V.units = \"m s-1\"\n",
    "\n",
    "### Potential temperature\n",
    "T = ncfile.createVariable('T','f4',('Time','bottom_top','south_north','west_east'))\n",
    "T.FieldType = 104\n",
    "T.MemoryOrder = \"XYZ\"\n",
    "T.description = \"potential temperature\"\n",
    "T.units = \"K\"\n",
    "\n",
    "### Pressure\n",
    "P = ncfile.createVariable('P','f4',('Time','bottom_top','south_north','west_east'))\n",
    "P.FieldType = 104\n",
    "P.MemoryOrder = \"XYZ\"\n",
    "P.description = \"pressure\"\n",
    "P.units = \"Pa\"\n",
    "\n",
    "### Water vapor mixing ratio\n",
    "QV = ncfile.createVariable('QV','f4',('Time','bottom_top','south_north','west_east'))\n",
    "QV.FieldType = 104\n",
    "QV.MemoryOrder = \"XYZ\"\n",
    "QV.description = \"water vapor mixing ratio\"\n",
    "QV.units = \"kg kg-1\"\n",
    "\n",
    "Z[0,:,:,:] = z[:,:,:] \n",
    "U[0,:,:,:] = u[:,:,:]\n",
    "V[0,:,:,:] = v[:,:,:]\n",
    "T[0,:,:,:] = t[:,:,:]\n",
    "P[0,:,:,:] = p[:,:,:]\n",
    "QV[0,:,:,:] = qv[:,:,:]\n",
    "\n",
    "ncfile.close()\n"
   ]
  },
  {
   "cell_type": "code",
   "execution_count": null,
   "metadata": {},
   "outputs": [],
   "source": [
    "%pylab inline\n",
    "import matplotlib.pyplot as plt\n",
    "plt.contourf(p[0,:,:]);plt.colorbar()"
   ]
  }
 ],
 "metadata": {
  "kernelspec": {
   "display_name": "Python 3 (ipykernel)",
   "language": "python",
   "name": "python3"
  },
  "language_info": {
   "codemirror_mode": {
    "name": "ipython",
    "version": 3
   },
   "file_extension": ".py",
   "mimetype": "text/x-python",
   "name": "python",
   "nbconvert_exporter": "python",
   "pygments_lexer": "ipython3",
   "version": "3.7.9"
  }
 },
 "nbformat": 4,
 "nbformat_minor": 4
}
