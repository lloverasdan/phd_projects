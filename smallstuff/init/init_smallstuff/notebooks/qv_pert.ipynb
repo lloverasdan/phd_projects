{
 "cells": [
  {
   "cell_type": "code",
   "execution_count": null,
   "metadata": {},
   "outputs": [],
   "source": [
    "from netCDF4 import Dataset\n",
    "import numpy as np\n",
    "import matplotlib.pyplot as plt\n",
    "ncfile = Dataset('/p/work1/lloveras/moist_runs/rst_blob2days/wrfrst_d01_2021-01-03_00_00_00','r+')"
   ]
  },
  {
   "cell_type": "code",
   "execution_count": null,
   "metadata": {},
   "outputs": [],
   "source": [
    "qv = ncfile.variables['QVAPOR'][0,:,:,:]\n",
    "nz = qv.shape[0]\n",
    "ny = qv.shape[1]\n",
    "nx = qv.shape[2]"
   ]
  },
  {
   "cell_type": "code",
   "execution_count": null,
   "metadata": {},
   "outputs": [],
   "source": [
    "### Roll to start\n",
    "roll = 200\n",
    "qv = np.roll(qv,roll,axis=2)\n",
    "\n",
    "### Parameters\n",
    "pert = np.zeros((nz,ny,nx))\n",
    "dz = 0.2\n",
    "dx = 20.\n",
    "wave = False\n",
    "\n",
    "### Location, decay scales, and wavelength\n",
    "xnot = roll - 105 #180\n",
    "ynot = 140\n",
    "ax = 1000\n",
    "ay = 1000\n",
    "h = 1.0\n",
    "l = 200\n",
    "\n",
    "### Amplitude\n",
    "amp = 0.15\n",
    "\n",
    "for x in range(nx):\n",
    "    for y in range(ny):\n",
    "        for z in range(nz):\n",
    "            r = np.sqrt(((x - xnot)*dx/ax)**2 + ((y - ynot)*dx/ay)**2)\n",
    "            if r >= np.pi/2:\n",
    "                r = np.pi/2.\n",
    "                pert[z,y,x] = 0.\n",
    "            elif wave:\n",
    "                pert[z,y,x] = 2*amp*qv[z,y,x]*np.exp(-z*dz/h)*np.cos(-r)*np.sin(2*np.pi*x*dx/l)\\\n",
    "                                    *np.sin(2*np.pi*y*dx/l)\n",
    "            else:    \n",
    "                pert[z,y,x] = amp*qv[z,y,x]*np.exp(-z*dz/h)*np.cos(-r)\n",
    "                \n",
    "### Unroll\n",
    "qv = np.roll(qv,-roll,axis=2)\n",
    "pert = np.roll(pert,-roll,axis=2)"
   ]
  },
  {
   "cell_type": "code",
   "execution_count": null,
   "metadata": {},
   "outputs": [],
   "source": [
    "ncfile.variables['QVAPOR'][0,:,:,:] = qv + pert"
   ]
  },
  {
   "cell_type": "code",
   "execution_count": null,
   "metadata": {},
   "outputs": [],
   "source": [
    "ncfile.close()"
   ]
  },
  {
   "cell_type": "code",
   "execution_count": null,
   "metadata": {},
   "outputs": [],
   "source": []
  }
 ],
 "metadata": {
  "kernelspec": {
   "display_name": "Python 3",
   "language": "python",
   "name": "python3"
  },
  "language_info": {
   "codemirror_mode": {
    "name": "ipython",
    "version": 3
   },
   "file_extension": ".py",
   "mimetype": "text/x-python",
   "name": "python",
   "nbconvert_exporter": "python",
   "pygments_lexer": "ipython3",
   "version": "3.8.5"
  }
 },
 "nbformat": 4,
 "nbformat_minor": 4
}
