{
 "cells": [
  {
   "cell_type": "code",
   "execution_count": null,
   "metadata": {},
   "outputs": [],
   "source": [
    "from netCDF4 import Dataset\n",
    "import numpy as np\n",
    "import matplotlib.pyplot as plt\n",
    "from wrf import interplevel, getvar, destagger\n",
    "CP = 1005.7\n",
    "RD = 287.04\n",
    "P0 = 1000.\n",
    "TR = 300.\n",
    "LV = 2.501e6\n",
    "EPS = 1.\n"
   ]
  },
  {
   "cell_type": "code",
   "execution_count": null,
   "metadata": {},
   "outputs": [],
   "source": [
    "dx = 32000.\n",
    "dy = 32000.\n",
    "nx = 250\n",
    "ny = 225\n",
    "nz_coamps = 100\n",
    "nz_wrf = 100\n",
    "shape_coamps = [nz_coamps, ny, nx]\n",
    "shape_wrf = [nz_wrf, ny, nx]\n",
    "\n",
    "wrf_dir = '/p/work1/lloveras/adj_32km/in_files/wrfin_adj_100'\n",
    "coamps_dir = '/p/work1/lloveras/adj_32km/input/files_from_jim/adj_48/'\n",
    "\n",
    "#wave = False"
   ]
  },
  {
   "cell_type": "code",
   "execution_count": null,
   "metadata": {},
   "outputs": [],
   "source": [
    "ncfile = Dataset(wrf_dir,'r+')\n",
    "wrf_u = getvar(ncfile,'U')\n",
    "wrf_v = getvar(ncfile,'V')\n",
    "wrf_th = getvar(ncfile,'T')\n",
    "wrf_p = getvar(ncfile,'P')\n",
    "wrf_qv = getvar(ncfile,'QVAPOR')\n",
    "wrf_full_p = getvar(ncfile,'pressure')\n",
    "\n",
    "\n",
    "coamps_u = np.fromfile(coamps_dir + 'aaauu1_sig_020007_000050_1a0250x0225_2022070500_00000000_fcstfld', dtype='>f4')\n",
    "coamps_v = np.fromfile(coamps_dir + 'aaavv1_sig_020007_000050_1a0250x0225_2022070500_00000000_fcstfld', dtype='>f4')\n",
    "coamps_ex = np.fromfile(coamps_dir + 'aaapp1_sig_020007_000050_1a0250x0225_2022070500_00000000_fcstfld', dtype='>f4')\n",
    "coamps_th = np.fromfile(coamps_dir + 'aaath1_sig_020007_000050_1a0250x0225_2022070500_00000000_fcstfld', dtype='>f4')\n",
    "coamps_qv = np.fromfile(coamps_dir + 'aaaqv1_sig_020007_000050_1a0250x0225_2022070500_00000000_fcstfld', dtype='>f4')\n",
    "coamps_full_p = np.fromfile(coamps_dir + 'ttlprs_sig_020007_000050_1a0250x0225_2022070500_00000000_fcstfld', dtype='>f4')\n"
   ]
  },
  {
   "cell_type": "code",
   "execution_count": null,
   "metadata": {},
   "outputs": [],
   "source": [
    "coamps_u = np.flip(np.reshape(coamps_u, shape_coamps),axis=0)\n",
    "coamps_v = np.flip(np.reshape(coamps_v, shape_coamps),axis=0)\n",
    "coamps_ex = np.flip(np.reshape(coamps_ex, shape_coamps),axis=0)\n",
    "coamps_th = np.flip(np.reshape(coamps_th, shape_coamps),axis=0)\n",
    "coamps_qv = np.flip(np.reshape(coamps_qv, shape_coamps),axis=0)\n",
    "coamps_full_p = np.flip(np.reshape(coamps_full_p, shape_coamps),axis=0)\n",
    "\n",
    "coamps_pert_ex = (coamps_full_p/P0)**(RD/CP) + coamps_ex\n",
    "coamps_pert_p = P0*coamps_pert_ex**(CP/RD)\n",
    "coamps_p = (coamps_pert_p - coamps_full_p)*100.\n"
   ]
  },
  {
   "cell_type": "code",
   "execution_count": null,
   "metadata": {},
   "outputs": [],
   "source": [
    "umax = np.amax(np.abs(coamps_u))\n",
    "vmax = np.amax(np.abs(coamps_v))\n",
    "thmax = np.amax(np.abs(coamps_th))\n",
    "pmax = np.amax(np.abs(coamps_p))\n",
    "qvmax = np.amax(np.abs(coamps_qv))\n",
    "print(umax, vmax, thmax, pmax, qvmax*1000)\n"
   ]
  },
  {
   "cell_type": "code",
   "execution_count": null,
   "metadata": {},
   "outputs": [],
   "source": [
    "u_pert = np.zeros([nz_wrf,ny,nx+1])\n",
    "v_pert = np.zeros([nz_wrf,ny+1,nx])\n",
    "p_pert = np.zeros(shape_wrf)\n",
    "th_pert = np.zeros(shape_wrf)\n",
    "qv_pert = np.zeros(shape_wrf)\n",
    "for k in range(nz_wrf):\n",
    "    u_pert[k,:,:-1] = interplevel(coamps_u, coamps_full_p, wrf_full_p[k,:,:])\n",
    "    v_pert[k,:-1,:] = interplevel(coamps_v, coamps_full_p, wrf_full_p[k,:,:])\n",
    "    th_pert[k,:,:] = interplevel(coamps_th, coamps_full_p, wrf_full_p[k,:,:])\n",
    "    p_pert[k,:,:] = interplevel(coamps_p, coamps_full_p, wrf_full_p[k,:,:])\n",
    "    qv_pert[k,:,:] = interplevel(coamps_qv, coamps_full_p, wrf_full_p[k,:,:])\n",
    "    \n",
    "u_pert[:,:,-1] = u_pert[:,:,0]\n",
    "v_pert[:,-1,:] = v_pert[:,-2,:]\n",
    "\n",
    "u_pert = np.nan_to_num(u_pert)\n",
    "v_pert = np.nan_to_num(v_pert)\n",
    "th_pert = np.nan_to_num(th_pert)\n",
    "p_pert = np.nan_to_num(p_pert)\n",
    "qv_pert = np.nan_to_num(qv_pert)\n"
   ]
  },
  {
   "cell_type": "code",
   "execution_count": null,
   "metadata": {},
   "outputs": [],
   "source": [
    "#l = 1000. #210.\n",
    "#lm = l*1000.\n",
    "\n",
    "#u_pert_wave = np.zeros([nz_wrf,ny,nx+1])\n",
    "#v_pert_wave = np.zeros([nz_wrf,ny+1,nx])\n",
    "#p_pert_wave = np.zeros(shape_wrf)\n",
    "#th_pert_wave = np.zeros(shape_wrf)\n",
    "#qv_pert_wave = np.zeros(shape_wrf)\n",
    "\n",
    "#for i in range(nx):\n",
    "#    for j in range(ny):\n",
    "#        u_pert_wave[:,j,i] = 2*u_pert[:,j,i]*np.sin(2*np.pi*i*dx/lm)*np.sin(2*np.pi*j*dx/lm)\n",
    "#        v_pert_wave[:,j,i] = 2*v_pert[:,j,i]*np.sin(2*np.pi*i*dx/lm)*np.sin(2*np.pi*j*dx/lm)\n",
    "#        p_pert_wave[:,j,i] = 2*p_pert[:,j,i]*np.sin(2*np.pi*i*dx/lm)*np.sin(2*np.pi*j*dx/lm)\n",
    "#        th_pert_wave[:,j,i] = 2*th_pert[:,j,i]*np.sin(2*np.pi*i*dx/lm)*np.sin(2*np.pi*j*dx/lm)\n",
    "#        qv_pert_wave[:,j,i] = 2*qv_pert[:,j,i]*np.sin(2*np.pi*i*dx/lm)*np.sin(2*np.pi*j*dx/lm)\n",
    "\n",
    "#if wave:\n",
    "#    u_pert = u_pert_wave\n",
    "#    v_pert = v_pert_wave\n",
    "#    p_pert = p_pert_wave\n",
    "#    th_pert = th_pert_wave\n",
    "#    qv_pert = qv_pert_wave\n"
   ]
  },
  {
   "cell_type": "code",
   "execution_count": null,
   "metadata": {},
   "outputs": [],
   "source": [
    "#div = 1.\n",
    "\n",
    "ncfile.variables['U'][0,:,:,:] = wrf_u + u_pert/100.\n",
    "ncfile.variables['V'][0,:,:,:] = wrf_v + v_pert/100.\n",
    "ncfile.variables['T'][0,:,:,:] = wrf_th + th_pert/100.\n",
    "ncfile.variables['P'][0,:,:,:] = wrf_p + p_pert/100.\n",
    "ncfile.variables['QVAPOR'][0,:,:,:] = wrf_qv + qv_pert/100.\n",
    "\n",
    "#ncfile.variables['U_2'][0,:,:,:] = wrf_u + u_pert*div\n",
    "#ncfile.variables['V_2'][0,:,:,:] = wrf_v + v_pert*div\n",
    "#ncfile.variables['T_2'][0,:,:,:] = wrf_th + th_pert*div\n"
   ]
  },
  {
   "cell_type": "code",
   "execution_count": null,
   "metadata": {},
   "outputs": [],
   "source": [
    "ncfile.close()\n"
   ]
  }
 ],
 "metadata": {
  "kernelspec": {
   "display_name": "Python 3 (ipykernel)",
   "language": "python",
   "name": "python3"
  },
  "language_info": {
   "codemirror_mode": {
    "name": "ipython",
    "version": 3
   },
   "file_extension": ".py",
   "mimetype": "text/x-python",
   "name": "python",
   "nbconvert_exporter": "python",
   "pygments_lexer": "ipython3",
   "version": "3.8.15"
  }
 },
 "nbformat": 4,
 "nbformat_minor": 4
}
