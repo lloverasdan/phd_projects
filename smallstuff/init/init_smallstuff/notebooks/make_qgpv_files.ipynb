{
 "cells": [
  {
   "cell_type": "code",
   "execution_count": null,
   "metadata": {},
   "outputs": [],
   "source": [
    "from netCDF4 import Dataset\n",
    "import numpy as np\n",
    "import matplotlib.pyplot as plt\n",
    "from wrf import vinterp, getvar, destagger\n",
    "from numba import njit\n",
    "\n",
    "nx = 2000\n",
    "ny = 1800\n",
    "nz = 90\n",
    "ti = 4\n",
    "G = 9.81\n",
    "zbot=0.2\n",
    "ztop=18\n",
    "z = np.linspace(zbot,ztop,nz)\n"
   ]
  },
  {
   "cell_type": "code",
   "execution_count": null,
   "metadata": {},
   "outputs": [],
   "source": [
    "nc_ctl = Dataset('/p/work1/lloveras/adj_4km/long_runs/ctl_48h/wrfout_d01_2021-01-05_00_00_00')\n",
    "nc_adj = Dataset('/p/work1/lloveras/adj_4km/long_runs/adj_48h/wrfout_d01_2021-01-05_00_00_00')\n",
    "nc_wave = Dataset('/p/work1/lloveras/adj_4km/long_runs/wave_48h/wrfout_d01_2021-01-05_00_00_00')\n",
    "\n",
    "pv_ctl = np.asarray(getvar(nc_ctl,'pvo',timeidx=ti))*1e-6\n",
    "pv_adj = np.asarray(getvar(nc_adj,'pvo',timeidx=ti))*1e-6\n",
    "pv_wave = np.asarray(getvar(nc_wave,'pvo',timeidx=ti))*1e-6\n",
    "u_ctl = np.asarray(getvar(nc_ctl,'ua',timeidx=ti))\n",
    "u_adj = np.asarray(getvar(nc_adj,'ua',timeidx=ti))\n",
    "u_wave = np.asarray(getvar(nc_wave,'ua',timeidx=ti))\n",
    "v_ctl = np.asarray(getvar(nc_ctl,'va',timeidx=ti))\n",
    "v_adj = np.asarray(getvar(nc_adj,'va',timeidx=ti))\n",
    "v_wave = np.asarray(getvar(nc_wave,'va',timeidx=ti))\n",
    "p = np.asarray(getvar(nc_ctl,'p',units='Pa',timeidx=ti))\n",
    "th = np.asarray(getvar(nc_ctl,'th',timeidx=ti))\n",
    "\n",
    "pv_ctl = vinterp(nc_ctl,pv_ctl,'ght_msl',z,timeidx=ti)\n",
    "pv_adj = vinterp(nc_adj,pv_adj,'ght_msl',z,timeidx=ti)\n",
    "pv_wave = vinterp(nc_wave,pv_wave,'ght_msl',z,timeidx=ti)\n",
    "u_ctl = vinterp(nc_ctl,u_ctl,'ght_msl',z,timeidx=ti)\n",
    "u_adj = vinterp(nc_adj,u_adj,'ght_msl',z,timeidx=ti)\n",
    "u_wave = vinterp(nc_wave,u_wave,'ght_msl',z,timeidx=ti)\n",
    "v_ctl = vinterp(nc_ctl,v_ctl,'ght_msl',z,timeidx=ti)\n",
    "v_adj = vinterp(nc_adj,v_adj,'ght_msl',z,timeidx=ti)\n",
    "v_wave = vinterp(nc_wave,v_wave,'ght_msl',z,timeidx=ti)\n",
    "p = vinterp(nc_ctl,p,'ght_msl',z,timeidx=ti)\n",
    "th = vinterp(nc_ctl,th,'ght_msl',z,timeidx=ti)\n"
   ]
  },
  {
   "cell_type": "code",
   "execution_count": null,
   "metadata": {},
   "outputs": [],
   "source": [
    "dp_dt = np.zeros((nz,ny,nx))\n",
    "for k in range(1,nz-1):\n",
    "    dp_dt[k,:,:] = (p[k+1,:,:] - p[k-1,:,:])/(th[k+1,:,:] - th[k-1,:,:])\n",
    "    \n",
    "dp_dt[0,:,:] = (p[1,:,:] - p[0,:,:])/(th[1,:,:] - th[0,:,:])\n",
    "dp_dt[-1,:,:] = (p[-1,:,:] - p[-2,:,:])/(th[-1,:,:] - th[-2,:,:])\n",
    "\n",
    "sig = (-1/G)*dp_dt\n",
    "dqgpv_adj = sig*(pv_adj - pv_ctl)\n",
    "dqgpv_wave = sig*(pv_wave - pv_ctl)\n",
    "du_adj = u_adj - u_ctl\n",
    "dv_wave = v_wave - v_ctl\n",
    "du_wave = u_wave - u_ctl\n",
    "dv_adj = v_adj - v_ctl\n"
   ]
  },
  {
   "cell_type": "code",
   "execution_count": null,
   "metadata": {},
   "outputs": [],
   "source": [
    "np.save('/p/work1/lloveras/adj_4km/processed_data/qgpv/dqgpv_adj',dqgpv_adj)\n",
    "np.save('/p/work1/lloveras/adj_4km/processed_data/qgpv/dqgpv_wave',dqgpv_wave)\n",
    "np.save('/p/work1/lloveras/adj_4km/processed_data/qgpv/du_adj',du_adj)\n",
    "np.save('/p/work1/lloveras/adj_4km/processed_data/qgpv/dv_adj',du_adj)\n",
    "np.save('/p/work1/lloveras/adj_4km/processed_data/qgpv/du_wave',du_wave)\n",
    "np.save('/p/work1/lloveras/adj_4km/processed_data/qgpv/dv_wave',dv_wave)\n"
   ]
  },
  {
   "cell_type": "code",
   "execution_count": null,
   "metadata": {},
   "outputs": [],
   "source": []
  }
 ],
 "metadata": {
  "kernelspec": {
   "display_name": "Python 3",
   "language": "python",
   "name": "python3"
  },
  "language_info": {
   "codemirror_mode": {
    "name": "ipython",
    "version": 3
   },
   "file_extension": ".py",
   "mimetype": "text/x-python",
   "name": "python",
   "nbconvert_exporter": "python",
   "pygments_lexer": "ipython3",
   "version": "3.8.5"
  }
 },
 "nbformat": 4,
 "nbformat_minor": 4
}
