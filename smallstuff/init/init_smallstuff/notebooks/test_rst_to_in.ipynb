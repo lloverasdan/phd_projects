{
 "cells": [
  {
   "cell_type": "code",
   "execution_count": null,
   "metadata": {},
   "outputs": [],
   "source": [
    "import numpy as np\n",
    "import netCDF4 as nc\n",
    "from bwave_ideal_wrf import wrf_fields, write_wrfinputd01\n",
    "from wrf import getvar, destagger"
   ]
  },
  {
   "cell_type": "code",
   "execution_count": null,
   "metadata": {},
   "outputs": [],
   "source": [
    "nc_out = nc.Dataset('/p/work1/lloveras/many_times_adj/out_files/wrfout_8100km')\n",
    "title_str = \"OUTPUT FROM IDEAL V3.6.1 PREPROCESSOR\"\n",
    "time_str = \"2021-01-03_00:00:00\""
   ]
  },
  {
   "cell_type": "code",
   "execution_count": null,
   "metadata": {},
   "outputs": [],
   "source": [
    "nx_out = 270\n",
    "ny_out = 240\n",
    "dx_out = 30.\n",
    "hres_m_out = dx_out*1000.\n",
    "tout = 8\n",
    "\n",
    "nx_in = 270\n",
    "ny_in = 240\n",
    "dx_in = 30.\n",
    "hres_m_in = dx_in*1000.\n",
    "rdx_in = 1/hres_m_in\n",
    "rdy_in = 1/hres_m_in\n",
    "\n",
    "dt = 120.\n",
    "mp_physics = 17\n",
    "ra_lw_physics = 0\n",
    "ra_sw_physics = 0\n",
    "sf_sfclay_physics = 1\n",
    "sf_surface_physics = 0\n",
    "bl_pbl_physics = 1\n",
    "cu_physics = 1\n",
    "num_soil_layers = 5\n",
    "diff_opt = 1\n",
    "km_opt = 4\n",
    "damp_opt = 3\n",
    "dampcoef = 0.4\n",
    "khdif = 0.\n",
    "kvdif = 0.\n",
    "spec_bdy_width = 8\n",
    "sf_lake_physics = 0\n",
    "surface_input_source = 1\n",
    "hypsometric_opt = 0\n",
    "num_land_cat = 24\n",
    "num_soil_cat = 16\n",
    "ptop = 5000.\n",
    "nz = 100"
   ]
  },
  {
   "cell_type": "code",
   "execution_count": null,
   "metadata": {},
   "outputs": [],
   "source": [
    "u_field_in = np.array(getvar(nc_out,'U',timeidx=tout))\n",
    "v_field_in = np.array(getvar(nc_out,'V',timeidx=tout))\n",
    "t_in = np.array(getvar(nc_out,'T',timeidx=tout))\n",
    "ph_in = np.array(getvar(nc_out,'PH',timeidx=tout))\n",
    "phb_in = np.array(getvar(nc_out,'PHB',timeidx=tout))\n",
    "p_in = np.array(getvar(nc_out,'P',timeidx=tout))\n",
    "pb_in = np.array(getvar(nc_out,'PB',timeidx=tout))\n",
    "mu_in = np.array(getvar(nc_out,'MU',timeidx=tout))\n",
    "mub_in = np.array(getvar(nc_out,'MUB',timeidx=tout))\n",
    "moist_in = np.array(getvar(nc_out,'QVAPOR',timeidx=tout))\n",
    "tsk_in = np.array(getvar(nc_out,'TSK',timeidx=tout))\n",
    "tmn_in = np.array(getvar(nc_out,'TMN',timeidx=tout))\n",
    "\n",
    "t_temp = t_in[:,int(ny_in/2 - 1),int(nx_in/2 - 1)]\n",
    "t_init_in = np.zeros((nz,ny_in,nx_in))\n",
    "for k in range(nz):\n",
    "    t_init_in[k,:,:] = t_temp[k]*np.ones((ny_in,nx_in))\n",
    "\n",
    "fnm = np.array(getvar(nc_out,'FNM'))\n",
    "fnp = np.array(getvar(nc_out,'FNP'))\n",
    "rdnw = np.array(getvar(nc_out,'RDNW'))\n",
    "rdn = np.array(getvar(nc_out,'RDN'))\n",
    "dnw = np.array(getvar(nc_out,'DNW'))\n",
    "dn = np.array(getvar(nc_out,'DN'))\n",
    "t_base = t_in[:,0,0]\n",
    "cfn = float(getvar(nc_out,'CFN'))\n",
    "cfn1 = float(getvar(nc_out,'CFN1'))\n",
    "cf1 = float(getvar(nc_out,'CF1'))\n",
    "cf2 = float(getvar(nc_out,'CF2'))\n",
    "cf3 = float(getvar(nc_out,'CF3'))\n",
    "u_base = u_field_in[:,0,0]\n",
    "v_base = v_field_in[:,0,0]\n",
    "qv_base = moist_in[:,0,0]\n",
    "znw = np.array(getvar(nc_out,'ZNW'))\n",
    "znu = np.array(getvar(nc_out,'ZNU'))"
   ]
  },
  {
   "cell_type": "code",
   "execution_count": null,
   "metadata": {},
   "outputs": [],
   "source": [
    "nc_in = nc.Dataset('/p/work1/lloveras/many_times_adj/in_files/wrfin_test_48h','w',format='NETCDF3_64BIT_OFFSET')\n",
    "nc_in = write_wrfinputd01.write(nc_in, nx_in, ny_in, nz, hres_m_in, title_str, \\\n",
    "        time_str, u_field_in, v_field_in, t_in, ph_in, phb_in, t_init_in, mu_in, mub_in, p_in, pb_in, \\\n",
    "        fnm, fnp, rdnw, rdn, dnw, dn, t_base, cfn, cfn1, rdx_in, rdy_in, cf1, \\\n",
    "        cf2, cf3, tsk_in, u_base, v_base, qv_base, tmn_in, moist_in, znw, znu, \\\n",
    "        diff_opt, km_opt, damp_opt, dampcoef, khdif, kvdif, mp_physics, \\\n",
    "        ra_lw_physics, ra_sw_physics, sf_sfclay_physics, sf_surface_physics, \\\n",
    "        bl_pbl_physics, cu_physics, sf_lake_physics, surface_input_source, \\\n",
    "        hypsometric_opt, dt, num_land_cat, num_soil_layers, num_soil_cat, \\\n",
    "        spec_bdy_width, ptop)\n",
    "nc_in.close()"
   ]
  }
 ],
 "metadata": {
  "kernelspec": {
   "display_name": "Python 3",
   "language": "python",
   "name": "python3"
  },
  "language_info": {
   "codemirror_mode": {
    "name": "ipython",
    "version": 3
   },
   "file_extension": ".py",
   "mimetype": "text/x-python",
   "name": "python",
   "nbconvert_exporter": "python",
   "pygments_lexer": "ipython3",
   "version": "3.8.5"
  }
 },
 "nbformat": 4,
 "nbformat_minor": 4
}
