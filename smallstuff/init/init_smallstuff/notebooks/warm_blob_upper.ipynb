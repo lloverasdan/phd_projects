{
 "cells": [
  {
   "cell_type": "code",
   "execution_count": null,
   "metadata": {},
   "outputs": [],
   "source": [
    "from netCDF4 import Dataset\n",
    "import numpy as np\n",
    "import matplotlib.pyplot as plt\n",
    "ncfile = Dataset('/p/work1/lloveras/updated_adjoint/in_files/wrfin_warm_up','r+')"
   ]
  },
  {
   "cell_type": "code",
   "execution_count": null,
   "metadata": {},
   "outputs": [],
   "source": [
    "temp = ncfile.variables['T'][0,:,:,:]\n",
    "nz = temp.shape[0]\n",
    "ny = temp.shape[1]\n",
    "nx = temp.shape[2]"
   ]
  },
  {
   "cell_type": "code",
   "execution_count": null,
   "metadata": {},
   "outputs": [],
   "source": [
    "### For all\n",
    "pert_blob = np.zeros((nz,ny,nx))\n",
    "dz = 0.4\n",
    "dx = 30.\n",
    "\n",
    "### For blob\n",
    "xnot = 80\n",
    "ynot = 100\n",
    "znot = 18\n",
    "ax = 200\n",
    "ay = 200\n",
    "az = 1\n",
    "a_blob = 1.0\n",
    "\n",
    "for x in range(nx):\n",
    "    for y in range(ny):\n",
    "        for z in range(nz):\n",
    "            r = np.sqrt(((x - xnot)*dx/ax)**2 + ((y - ynot)*dx/ay)**2)\n",
    "            rz = np.abs((z - znot)*dz/az)\n",
    "            if r > np.pi/2: r = np.pi/2.\n",
    "            if rz > np.pi/2.: rz = np.pi/2.\n",
    "            pert_blob[z,y,x] = a_blob*np.cos(-rz)*np.cos(-r)"
   ]
  },
  {
   "cell_type": "code",
   "execution_count": null,
   "metadata": {},
   "outputs": [],
   "source": [
    "ncfile.variables['T'][0,:,:,:] = temp + pert_blob"
   ]
  },
  {
   "cell_type": "code",
   "execution_count": null,
   "metadata": {},
   "outputs": [],
   "source": [
    "ncfile.close()"
   ]
  },
  {
   "cell_type": "code",
   "execution_count": null,
   "metadata": {},
   "outputs": [],
   "source": []
  }
 ],
 "metadata": {
  "kernelspec": {
   "display_name": "Python 3",
   "language": "python",
   "name": "python3"
  },
  "language_info": {
   "codemirror_mode": {
    "name": "ipython",
    "version": 3
   },
   "file_extension": ".py",
   "mimetype": "text/x-python",
   "name": "python",
   "nbconvert_exporter": "python",
   "pygments_lexer": "ipython3",
   "version": "3.8.5"
  }
 },
 "nbformat": 4,
 "nbformat_minor": 4
}
