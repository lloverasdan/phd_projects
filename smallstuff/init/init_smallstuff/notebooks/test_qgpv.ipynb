{
 "cells": [
  {
   "cell_type": "code",
   "execution_count": null,
   "metadata": {},
   "outputs": [],
   "source": [
    "import numpy as np\n",
    "from netCDF4 import Dataset\n",
    "from wrf import vinterp, getvar\n",
    "import os\n",
    "import sys\n",
    "module_path = os.path.abspath(os.path.join('..'))\n",
    "if module_path not in sys.path:\n",
    "    sys.path.append(module_path)\n",
    "from bwave_ideal_wrf import qgpv_pert\n",
    "\n",
    "### Define constants\n",
    "nx = 2000\n",
    "ny = 1800\n",
    "nz = 90\n",
    "ti = 4\n",
    "hres = 4\n",
    "G = 9.81\n",
    "F0 = 1.0e-4\n",
    "zbot = 0.2\n",
    "ztop = 18\n",
    "z = np.linspace(zbot,ztop,nz)"
   ]
  },
  {
   "cell_type": "code",
   "execution_count": null,
   "metadata": {},
   "outputs": [],
   "source": [
    "### Read in WRF data and interpolate\n",
    "nc1 = Dataset('/p/work1/lloveras/adj_4km/long_runs/ctl_48h/wrfout_d01_2021-01-05_00_00_00')\n",
    "nc2 = Dataset('/p/work1/lloveras/adj_4km/long_runs/wave_48h_100/wrfout_d01_2021-01-05_00_00_00')\n",
    "\n",
    "pv1 = np.asarray(getvar(nc1,'pvo',timeidx=ti))*1e-6\n",
    "pv2 = np.asarray(getvar(nc2,'pvo',timeidx=ti))*1e-6\n",
    "\n",
    "p1 = np.asarray(getvar(nc1,'p',units='Pa',timeidx=ti))\n",
    "p2 = np.asarray(getvar(nc2,'p',units='Pa',timeidx=ti))\n",
    "\n",
    "th1 = np.asarray(getvar(nc1,'th',timeidx=ti))\n",
    "th2 = np.asarray(getvar(nc2,'th',timeidx=ti))\n",
    "\n",
    "pv1 = vinterp(nc1,pv1,'ght_msl',z,timeidx=ti)\n",
    "pv2 = vinterp(nc2,pv2,'ght_msl',z,timeidx=ti)\n",
    "\n",
    "p1 = vinterp(nc1,p1,'ght_msl',z,timeidx=ti)\n",
    "p2 = vinterp(nc2,p2,'ght_msl',z,timeidx=ti)\n",
    "\n",
    "th1 = vinterp(nc1,th1,'ght_msl',z,timeidx=ti)\n",
    "th2 = vinterp(nc2,th2,'ght_msl',z,timeidx=ti)\n"
   ]
  },
  {
   "cell_type": "code",
   "execution_count": null,
   "metadata": {},
   "outputs": [],
   "source": [
    "### Compute background fields\n",
    "dp_dt1 = np.zeros((nz,ny,nx))\n",
    "dp_dt2 = np.zeros((nz,ny,nx))\n",
    "dt_dz = np.zeros((nz-1,ny,nx))\n",
    "n = np.zeros((nz-1,ny,nx))\n",
    "for k in range(1,nz-1):\n",
    "    dp_dt1[k,:,:] = (p1[k+1,:,:] - p1[k-1,:,:])/(th1[k+1,:,:] - th1[k-1,:,:])\n",
    "    dp_dt2[k,:,:] = (p2[k+1,:,:] - p2[k-1,:,:])/(th2[k+1,:,:] - th2[k-1,:,:])\n",
    "    dt_dz[k,:,:] = (th1[k+1,:,:] - th1[k-1,:,:])/((z[k+1] - z[k-1])*1000.)\n",
    "    n[k,:,:] = np.sqrt(G/th1[k,:,:]*dt_dz[k,:,:])\n",
    "    \n",
    "dp_dt1[0,:,:] = dp_dt1[1,:,:]\n",
    "dp_dt1[-1,:,:] = (p1[-1,:,:] - p1[-2,:,:])/(th1[-1,:,:] - th1[-2,:,:])\n",
    "dp_dt2[0,:,:] = dp_dt2[1,:,:]\n",
    "dp_dt2[-1,:,:] = (p2[-1,:,:] - p2[-2,:,:])/(th2[-1,:,:] - th2[-2,:,:])\n",
    "dt_dz[0,:,:] = dt_dz[1,:,:]\n",
    "n[0,:,:] = np.sqrt(G/th1[0,:,:]*dt_dz[0,:,:])\n",
    "\n",
    "sig1 = (-1/G)*dp_dt1\n",
    "sig2 = (-1/G)*dp_dt2\n",
    "dtdz_avg = np.nanmean(dt_dz,axis=(1,2))\n",
    "n_avg = np.nanmean(n,axis=(1,2))\n",
    "bu = n_avg/F0\n",
    "bu_fac = bu**2\n"
   ]
  },
  {
   "cell_type": "code",
   "execution_count": null,
   "metadata": {},
   "outputs": [],
   "source": [
    "### Compute difference fields\n",
    "dqgpv = sig2*pv2 - sig1*pv1\n",
    "\n",
    "### Transform into spectral space\n",
    "pvsp = np.zeros((nz,ny,nx),dtype=np.dtype(np.complex64))\n",
    "for k in range(nz):\n",
    "    pvsp[k,:,:] = np.fft.fft2(np.squeeze(dqgpv[k,:,:]))\n",
    "\n",
    "### Invert\n",
    "lbcxy = np.zeros((ny,nx))\n",
    "ubcxy = np.zeros((ny,nx))\n",
    "lbcsp = np.fft.fft2(lbcxy)\n",
    "ubcsp = np.fft.fft2(ubcxy)\n",
    "xl, yl, x, y, xg, yg, dz, zp, facz = qgpv_pert.cartesian_mesh(nx, ny, nz, hres, ztop)\n",
    "kmax, lmax, facx, facy, dxg, dyg = qgpv_pert.spectral_mesh(nx, ny, xl, yl)\n"
   ]
  },
  {
   "cell_type": "code",
   "execution_count": null,
   "metadata": {},
   "outputs": [],
   "source": [
    "fbsp, ftsp, fzbsp, fztsp, fsp = qgpv_pert.qgpv_inversion(nx, ny, nz, bu_fac, \\\n",
    "        facx, facy, facz, kmax, lmax, pvsp, ubcsp, lbcsp, dz)\n",
    "\n",
    "du_qg, dv_qg, dth_qg, dr_qg, dphi_qg = qgpv_pert.qgpv_solver(fsp, nx, ny, nz, \\\n",
    "        bu_fac, dxg, dyg, dz, lbcxy, ubcxy, dtdz_avg)\n"
   ]
  },
  {
   "cell_type": "code",
   "execution_count": null,
   "metadata": {},
   "outputs": [],
   "source": [
    "np.amax(dv_qg)"
   ]
  },
  {
   "cell_type": "code",
   "execution_count": null,
   "metadata": {},
   "outputs": [],
   "source": []
  }
 ],
 "metadata": {
  "kernelspec": {
   "display_name": "Python 3",
   "language": "python",
   "name": "python3"
  },
  "language_info": {
   "codemirror_mode": {
    "name": "ipython",
    "version": 3
   },
   "file_extension": ".py",
   "mimetype": "text/x-python",
   "name": "python",
   "nbconvert_exporter": "python",
   "pygments_lexer": "ipython3",
   "version": "3.8.5"
  }
 },
 "nbformat": 4,
 "nbformat_minor": 4
}
