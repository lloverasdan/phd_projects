{
 "cells": [
  {
   "cell_type": "markdown",
   "metadata": {},
   "source": [
    "## Import modules and define constants"
   ]
  },
  {
   "cell_type": "code",
   "execution_count": null,
   "metadata": {},
   "outputs": [],
   "source": [
    "from netCDF4 import Dataset\n",
    "import numpy as np\n",
    "import matplotlib.pyplot as plt\n",
    "from wrf import interplevel, getvar, destagger\n",
    "from matplotlib.cm import get_cmap\n",
    "CP = 1005.7\n",
    "RD = 287.04\n",
    "P0 = 1000.\n",
    "TR = 300.\n",
    "LV = 2.501e6\n",
    "EPS = 1."
   ]
  },
  {
   "cell_type": "markdown",
   "metadata": {},
   "source": [
    "## Define user parameters"
   ]
  },
  {
   "cell_type": "code",
   "execution_count": null,
   "metadata": {},
   "outputs": [],
   "source": [
    "dx = 30000.\n",
    "dy = 30000.\n",
    "nx = 500\n",
    "ny = 240\n",
    "nz_coamps = 45\n",
    "nz_wrf = 100\n",
    "shape_coamps = [nz_coamps, ny, nx]\n",
    "shape_wrf = [nz_wrf, ny, nx]\n",
    "\n",
    "wrf_dir = '/p/work1/lloveras/third_adj/in_files/wrfin_altadj'\n",
    "wrfout_dir = '/p/work1/lloveras/third_adj/out_files/wrfout_ctl'\n",
    "coamps_dir = '/p/work1/lloveras/third_adj/sens_0h/'\n",
    "full_dir = '/p/work1/lloveras/third_adj/pert_0h/'\n",
    "\n",
    "dz_coamps = np.array([20, 20, 30, 40, 60, 80, 100, 120, 140, 160, 180, 200, 220, 240, 260, 280, 300, 320, 340, 360, \n",
    "                      380, 400, 430, 470, 500, 500, 500, 550, 600, 650, 700, 750, 750, 750, 750, 750, 750, 750, 750,\n",
    "                      800, 900, 900, 900, 900, 900])"
   ]
  },
  {
   "cell_type": "markdown",
   "metadata": {},
   "source": [
    "## Read in data"
   ]
  },
  {
   "cell_type": "code",
   "execution_count": null,
   "metadata": {},
   "outputs": [],
   "source": [
    "ncfile = Dataset(wrf_dir,'r+')\n",
    "ncfile_wrfout = Dataset(wrfout_dir)\n",
    "wrf_u = np.array(getvar(ncfile,'U'))\n",
    "wrf_v = np.array(getvar(ncfile,'V'))\n",
    "wrf_p = np.array(getvar(ncfile,'P'))\n",
    "wrf_th = np.array(getvar(ncfile,'T'))\n",
    "wrf_qv = np.array(getvar(ncfile,'QVAPOR'))\n",
    "wrf_full_p = np.array(getvar(ncfile,'pressure',timeidx=0))\n",
    "\n",
    "sens_u = np.fromfile(coamps_dir + 'aaauu4_sig_020000_000010_1a0500x0240_2021060100_00000000_fcstfld', dtype='>f4')\n",
    "sens_v = np.fromfile(coamps_dir + 'aaavv4_sig_020000_000010_1a0500x0240_2021060100_00000000_fcstfld', dtype='>f4')\n",
    "sens_ex = np.fromfile(coamps_dir + 'aaapp4_sig_020000_000010_1a0500x0240_2021060100_00000000_fcstfld', dtype='>f4')\n",
    "sens_th = np.fromfile(coamps_dir + 'aaath4_sig_020000_000010_1a0500x0240_2021060100_00000000_fcstfld', dtype='>f4')\n",
    "sens_qv = np.fromfile(coamps_dir + 'aaaqv4_sig_020000_000010_1a0500x0240_2021060100_00000000_fcstfld', dtype='>f4')\n",
    "coamps_full_p = np.fromfile(full_dir + 'ttlprs_sig_020000_000010_1a0500x0240_2021060100_00000000_fcstfld', dtype='>f4')\n",
    "\n",
    "sens_u = np.flip(np.reshape(sens_u, shape_coamps),axis=0)\n",
    "sens_v = np.flip(np.reshape(sens_v, shape_coamps),axis=0)\n",
    "sens_ex = np.flip(np.reshape(sens_ex, shape_coamps),axis=0)\n",
    "sens_th = np.flip(np.reshape(sens_th, shape_coamps),axis=0)\n",
    "sens_qv = np.flip(np.reshape(sens_qv, shape_coamps),axis=0)\n",
    "coamps_full_p = np.flip(np.reshape(coamps_full_p, shape_coamps),axis=0)\n",
    "coamps_full_ex = (coamps_full_p/P0)**(RD/CP)\n",
    "\n",
    "for i in range(nx):\n",
    "    for j in range(ny):\n",
    "        if (i <= 10 or i >= 490) or (j <= 10 or j >= 230):\n",
    "            sens_u[:,j,i] = np.zeros(nz_coamps)\n",
    "            sens_v[:,j,i] = np.zeros(nz_coamps)\n",
    "            sens_ex[:,j,i] = np.zeros(nz_coamps)\n",
    "            sens_th[:,j,i] = np.zeros(nz_coamps)\n",
    "            sens_qv[:,j,i] = np.zeros(nz_coamps)"
   ]
  },
  {
   "cell_type": "markdown",
   "metadata": {},
   "source": [
    "## Alternative perturbations"
   ]
  },
  {
   "cell_type": "code",
   "execution_count": null,
   "metadata": {},
   "outputs": [],
   "source": [
    "du = np.array(getvar(ncfile_wrfout,'ua',timeidx=12)) - np.array(getvar(ncfile_wrfout,'ua',timeidx=0))\n",
    "dv = np.array(getvar(ncfile_wrfout,'va',timeidx=12)) - np.array(getvar(ncfile_wrfout,'va',timeidx=0))\n",
    "dth = np.array(getvar(ncfile_wrfout,'th',timeidx=12)) - np.array(getvar(ncfile_wrfout,'th',timeidx=0))\n",
    "dqv = np.array(getvar(ncfile_wrfout,'QVAPOR',timeidx=12)) - np.array(getvar(ncfile_wrfout,'QVAPOR',timeidx=0))\n",
    "p2 = np.array(getvar(ncfile_wrfout,'pressure',timeidx=12))\n",
    "p1 = np.array(getvar(ncfile_wrfout,'pressure',timeidx=0))\n",
    "ex2 = ((p2/P0)**(RD/CP))\n",
    "ex1 = ((p1/P0)**(RD/CP))\n",
    "dex = ex2 - ex1\n",
    "\n",
    "w_u = np.amax(np.abs(du))**(-2)\n",
    "w_v = np.amax(np.abs(dv))**(-2)\n",
    "w_th = np.amax(np.abs(dth))**(-2)\n",
    "w_ex = np.amax(np.abs(dex))**(-2)\n",
    "w_qv = np.amax(np.abs(dqv))**(-2)"
   ]
  },
  {
   "cell_type": "code",
   "execution_count": null,
   "metadata": {},
   "outputs": [],
   "source": [
    "s = 1.54e-6\n",
    "u_pert = np.zeros(shape_coamps)\n",
    "v_pert = np.zeros(shape_coamps)\n",
    "ex_pert = np.zeros(shape_coamps)\n",
    "th_pert = np.zeros(shape_coamps)\n",
    "qv_pert = np.zeros(shape_coamps)\n",
    "for k in range(nz_coamps):\n",
    "    u_pert[k,:,:] = sens_u[k,:,:]*dz_coamps[k]*s/w_u\n",
    "    v_pert[k,:,:] = sens_v[k,:,:]*dz_coamps[k]*s/w_v\n",
    "    ex_pert[k,:,:] = sens_ex[k,:,:]*dz_coamps[k]*s/w_ex\n",
    "    th_pert[k,:,:] = sens_th[k,:,:]*dz_coamps[k]*s/w_th\n",
    "    qv_pert[k,:,:] = sens_qv[k,:,:]*dz_coamps[k]*s/w_qv\n",
    "    \n",
    "full_ex = coamps_full_ex + ex_pert\n",
    "full_p = P0*full_ex**(CP/RD)\n",
    "p_pert = (full_p - coamps_full_p)*100."
   ]
  },
  {
   "cell_type": "code",
   "execution_count": null,
   "metadata": {},
   "outputs": [],
   "source": [
    "umax = np.amax(np.abs(u_pert))\n",
    "vmax = np.amax(np.abs(v_pert))\n",
    "thmax = np.amax(np.abs(th_pert))\n",
    "pmax = np.amax(np.abs(p_pert))\n",
    "qvmax = np.amax(np.abs(qv_pert))\n",
    "print(umax, vmax, thmax, pmax, qvmax*1000)"
   ]
  },
  {
   "cell_type": "code",
   "execution_count": null,
   "metadata": {},
   "outputs": [],
   "source": [
    "u_pert_wrf = np.zeros([nz_wrf,ny,nx+1])\n",
    "v_pert_wrf = np.zeros([nz_wrf,ny+1,nx])\n",
    "p_pert_wrf = np.zeros(shape_wrf)\n",
    "th_pert_wrf = np.zeros(shape_wrf)\n",
    "qv_pert_wrf = np.zeros(shape_wrf)\n",
    "for k in range(nz_wrf):\n",
    "    u_pert_wrf[k,:,:-1] = interplevel(u_pert, coamps_full_p, wrf_full_p[k,:,:])\n",
    "    v_pert_wrf[k,:-1,:] = interplevel(v_pert, coamps_full_p, wrf_full_p[k,:,:])\n",
    "    th_pert_wrf[k,:,:] = interplevel(th_pert, coamps_full_p, wrf_full_p[k,:,:])\n",
    "    p_pert_wrf[k,:,:] = interplevel(p_pert, coamps_full_p, wrf_full_p[k,:,:])\n",
    "    qv_pert_wrf[k,:,:] = interplevel(qv_pert, coamps_full_p, wrf_full_p[k,:,:])\n",
    "    \n",
    "u_pert_wrf[:,:,-1] = u_pert_wrf[:,:,-2]\n",
    "v_pert_wrf[:,-1,:] = v_pert_wrf[:,-2,:]\n",
    "\n",
    "u_pert_wrf = np.nan_to_num(u_pert_wrf)\n",
    "v_pert_wrf = np.nan_to_num(v_pert_wrf)\n",
    "th_pert_wrf = np.nan_to_num(th_pert_wrf)\n",
    "p_pert_wrf = np.nan_to_num(p_pert_wrf)\n",
    "qv_pert_wrf = np.nan_to_num(qv_pert_wrf)"
   ]
  },
  {
   "cell_type": "code",
   "execution_count": null,
   "metadata": {},
   "outputs": [],
   "source": [
    "ncfile.variables['U'][0,:,:,:] = wrf_u + u_pert_wrf\n",
    "ncfile.variables['V'][0,:,:,:] = wrf_v + v_pert_wrf\n",
    "ncfile.variables['T'][0,:,:,:] = wrf_th + th_pert_wrf\n",
    "ncfile.variables['P'][0,:,:,:] = wrf_p + p_pert_wrf\n",
    "ncfile.variables['QVAPOR'][0,:,:,:] = wrf_qv + qv_pert_wrf\n",
    "\n",
    "ncfile.close()"
   ]
  }
 ],
 "metadata": {
  "kernelspec": {
   "display_name": "Python 3 (ipykernel)",
   "language": "python",
   "name": "python3"
  },
  "language_info": {
   "codemirror_mode": {
    "name": "ipython",
    "version": 3
   },
   "file_extension": ".py",
   "mimetype": "text/x-python",
   "name": "python",
   "nbconvert_exporter": "python",
   "pygments_lexer": "ipython3",
   "version": "3.8.15"
  }
 },
 "nbformat": 4,
 "nbformat_minor": 4
}
