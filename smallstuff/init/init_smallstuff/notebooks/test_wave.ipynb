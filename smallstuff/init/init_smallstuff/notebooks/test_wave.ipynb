{
 "cells": [
  {
   "cell_type": "code",
   "execution_count": null,
   "metadata": {},
   "outputs": [],
   "source": [
    "from netCDF4 import Dataset\n",
    "import numpy as np\n",
    "import matplotlib.pyplot as plt\n",
    "from wrf import interplevel, getvar, destagger\n",
    "CP = 1005.7\n",
    "RD = 287.04\n",
    "P0 = 1000.\n",
    "TR = 300.\n",
    "LV = 2.501e6\n",
    "EPS = 1."
   ]
  },
  {
   "cell_type": "code",
   "execution_count": null,
   "metadata": {},
   "outputs": [],
   "source": [
    "dx = 30000.\n",
    "dy = 30000.\n",
    "nx = 500\n",
    "ny = 240\n",
    "nz_coamps = 45\n",
    "nz_wrf = 100\n",
    "shape_coamps = [nz_coamps, ny, nx]\n",
    "shape_wrf = [nz_wrf, ny, nx]\n",
    "\n",
    "wrf_dir = '/p/work1/lloveras/adj_30km/in_files/wrfin_adj_wave'\n",
    "coamps_dir = '/p/work1/lloveras/adj_30km/pert_0h/'\n",
    "\n",
    "wave = True"
   ]
  },
  {
   "cell_type": "code",
   "execution_count": null,
   "metadata": {},
   "outputs": [],
   "source": [
    "ncfile = Dataset(wrf_dir,'r+')\n",
    "wrf_u = getvar(ncfile,'U')\n",
    "wrf_v = getvar(ncfile,'V')\n",
    "wrf_p = getvar(ncfile,'P')\n",
    "wrf_th = getvar(ncfile,'T')\n",
    "wrf_qv = getvar(ncfile,'QVAPOR')\n",
    "wrf_full_p = getvar(ncfile,'pressure')\n",
    "\n",
    "\n",
    "coamps_u = np.fromfile(coamps_dir + 'aaauu1_sig_020000_000010_1a0500x0240_2021060100_00000000_fcstfld', dtype='>f4')\n",
    "coamps_v = np.fromfile(coamps_dir + 'aaavv1_sig_020000_000010_1a0500x0240_2021060100_00000000_fcstfld', dtype='>f4')\n",
    "coamps_ex = np.fromfile(coamps_dir + 'aaapp1_sig_020000_000010_1a0500x0240_2021060100_00000000_fcstfld', dtype='>f4')\n",
    "coamps_th = np.fromfile(coamps_dir + 'aaath1_sig_020000_000010_1a0500x0240_2021060100_00000000_fcstfld', dtype='>f4')\n",
    "coamps_qv = np.fromfile(coamps_dir + 'aaaqv1_sig_020000_000010_1a0500x0240_2021060100_00000000_fcstfld', dtype='>f4')\n",
    "coamps_full_p = np.fromfile(coamps_dir + 'ttlprs_sig_020000_000010_1a0500x0240_2021060100_00000000_fcstfld', dtype='>f4')\n"
   ]
  },
  {
   "cell_type": "code",
   "execution_count": null,
   "metadata": {},
   "outputs": [],
   "source": [
    "coamps_u = np.flip(np.reshape(coamps_u, shape_coamps),axis=0)\n",
    "coamps_v = np.flip(np.reshape(coamps_v, shape_coamps),axis=0)\n",
    "coamps_ex = np.flip(np.reshape(coamps_ex, shape_coamps),axis=0)\n",
    "coamps_th = np.flip(np.reshape(coamps_th, shape_coamps),axis=0)\n",
    "coamps_qv = np.flip(np.reshape(coamps_qv, shape_coamps),axis=0)\n",
    "coamps_full_p = np.flip(np.reshape(coamps_full_p, shape_coamps),axis=0)\n",
    "\n",
    "coamps_pert_ex = (coamps_full_p/P0)**(RD/CP) + coamps_ex\n",
    "coamps_pert_p = P0*coamps_pert_ex**(CP/RD)\n",
    "coamps_p = (coamps_pert_p - coamps_full_p)*100."
   ]
  },
  {
   "cell_type": "code",
   "execution_count": null,
   "metadata": {},
   "outputs": [],
   "source": [
    "umax = np.amax(np.abs(coamps_u))\n",
    "vmax = np.amax(np.abs(coamps_v))\n",
    "thmax = np.amax(np.abs(coamps_th))\n",
    "pmax = np.amax(np.abs(coamps_p))\n",
    "qvmax = np.amax(np.abs(coamps_qv))\n",
    "print(umax, vmax, thmax, pmax, qvmax*1000)"
   ]
  },
  {
   "cell_type": "code",
   "execution_count": null,
   "metadata": {},
   "outputs": [],
   "source": [
    "u_pert = np.zeros([nz_wrf,ny,nx+1])\n",
    "v_pert = np.zeros([nz_wrf,ny+1,nx])\n",
    "p_pert = np.zeros(shape_wrf)\n",
    "th_pert = np.zeros(shape_wrf)\n",
    "qv_pert = np.zeros(shape_wrf)\n",
    "for k in range(nz_wrf):\n",
    "    u_pert[k,:,:-1] = interplevel(coamps_u, coamps_full_p, wrf_full_p[k,:,:])\n",
    "    v_pert[k,:-1,:] = interplevel(coamps_v, coamps_full_p, wrf_full_p[k,:,:])\n",
    "    th_pert[k,:,:] = interplevel(coamps_th, coamps_full_p, wrf_full_p[k,:,:])\n",
    "    p_pert[k,:,:] = interplevel(coamps_p, coamps_full_p, wrf_full_p[k,:,:])\n",
    "    qv_pert[k,:,:] = interplevel(coamps_qv, coamps_full_p, wrf_full_p[k,:,:])\n",
    "    \n",
    "u_pert[:,:,-1] = u_pert[:,:,-2]\n",
    "v_pert[:,-1,:] = v_pert[:,-2,:]\n",
    "\n",
    "u_pert = np.nan_to_num(u_pert)\n",
    "v_pert = np.nan_to_num(v_pert)\n",
    "th_pert = np.nan_to_num(th_pert)\n",
    "p_pert = np.nan_to_num(p_pert)\n",
    "qv_pert = np.nan_to_num(qv_pert)\n"
   ]
  },
  {
   "cell_type": "code",
   "execution_count": null,
   "metadata": {},
   "outputs": [],
   "source": [
    "wrf_full_th = np.array(wrf_th) + 300\n",
    "wrf_full_p = np.array(wrf_full_p)\n",
    "wrf_fullpert_p = wrf_full_p + p_pert\n",
    "wrf_fullpert_th = wrf_full_th + th_pert\n",
    "\n",
    "wrf_full_tk = wrf_full_th*(wrf_full_p/P0)**(RD/CP)\n",
    "wrf_fullpert_tk = wrf_fullpert_th*(wrf_fullpert_p/P0)**(RD/CP)\n",
    "tk_pert = wrf_fullpert_tk - wrf_full_tk\n",
    "\n",
    "dte1_adj = np.sum(np.sum(np.sum(np.squeeze(u_pert[:,:,:]**2.0),1),1))\n",
    "dte2_adj = np.sum(np.sum(np.sum(np.squeeze(v_pert[:,:,:]**2.0),1),1))\n",
    "dte3_adj = np.sum(np.sum(np.sum(np.squeeze(CP/TR*(tk_pert[:,:,:]**2.0)),1),1))\n",
    "dte_adj = 0.5*(dte1_adj + dte2_adj + dte3_adj)\n"
   ]
  },
  {
   "cell_type": "code",
   "execution_count": null,
   "metadata": {},
   "outputs": [],
   "source": [
    "l = 210.\n",
    "lm = l*1000.\n",
    "\n",
    "u_pert_wave = np.zeros([nz_wrf,ny,nx+1])\n",
    "v_pert_wave = np.zeros([nz_wrf,ny+1,nx])\n",
    "p_pert_wave = np.zeros(shape_wrf)\n",
    "th_pert_wave = np.zeros(shape_wrf)\n",
    "qv_pert_wave = np.zeros(shape_wrf)\n",
    "\n",
    "for i in range(nx):\n",
    "    for j in range(ny):\n",
    "        u_pert_wave[:,j,i] = u_pert[:,j,i]*np.sin(2*np.pi*i*dx/lm)*np.sin(2*np.pi*j*dx/lm)\n",
    "        v_pert_wave[:,j,i] = v_pert[:,j,i]*np.sin(2*np.pi*i*dx/lm)*np.sin(2*np.pi*j*dx/lm)\n",
    "        p_pert_wave[:,j,i] = p_pert[:,j,i]*np.sin(2*np.pi*i*dx/lm)*np.sin(2*np.pi*j*dx/lm)\n",
    "        th_pert_wave[:,j,i] = th_pert[:,j,i]*np.sin(2*np.pi*i*dx/lm)*np.sin(2*np.pi*j*dx/lm)\n",
    "        qv_pert_wave[:,j,i] = qv_pert[:,j,i]*np.sin(2*np.pi*i*dx/lm)*np.sin(2*np.pi*j*dx/lm)\n",
    "        "
   ]
  },
  {
   "cell_type": "code",
   "execution_count": null,
   "metadata": {},
   "outputs": [],
   "source": [
    "wrf_wavepert_p = wrf_full_p + p_pert_wave\n",
    "wrf_wavepert_th = wrf_full_th + th_pert_wave\n",
    "\n",
    "wrf_wavepert_tk = wrf_wavepert_th*(wrf_wavepert_p/P0)**(RD/CP)\n",
    "tk_pert_wave = wrf_wavepert_tk - wrf_full_tk\n",
    "\n",
    "dte1_wave = np.sum(np.sum(np.sum(np.squeeze(u_pert_wave[:,:,:]**2.0),1),1))\n",
    "dte2_wave = np.sum(np.sum(np.sum(np.squeeze(v_pert_wave[:,:,:]**2.0),1),1))\n",
    "dte3_wave = np.sum(np.sum(np.sum(np.squeeze(CP/TR*(tk_pert_wave[:,:,:]**2.0)),1),1))\n",
    "dte_wave = 0.5*(dte1_wave + dte2_wave + dte3_wave)\n"
   ]
  },
  {
   "cell_type": "code",
   "execution_count": null,
   "metadata": {},
   "outputs": [],
   "source": [
    "fac = dte_adj/dte_wave\n",
    "s = np.sqrt(fac)\n",
    "u_pert_wave = s*u_pert_wave\n",
    "v_pert_wave = s*v_pert_wave\n",
    "p_pert_wave = s*p_pert_wave\n",
    "th_pert_wave = s*th_pert_wave\n",
    "qv_pert_wave = s*qv_pert_wave"
   ]
  },
  {
   "cell_type": "code",
   "execution_count": null,
   "metadata": {},
   "outputs": [],
   "source": [
    "if wave:\n",
    "    u_pert = u_pert_wave\n",
    "    v_pert = v_pert_wave\n",
    "    p_pert = p_pert_wave\n",
    "    th_pert = th_pert_wave\n",
    "    qv_pert = qv_pert_wave\n",
    "\n",
    "ncfile.variables['U'][0,:,:,:] = wrf_u + u_pert\n",
    "ncfile.variables['V'][0,:,:,:] = wrf_v + v_pert\n",
    "ncfile.variables['T'][0,:,:,:] = wrf_th + th_pert\n",
    "ncfile.variables['P'][0,:,:,:] = wrf_p + p_pert\n",
    "ncfile.variables['QVAPOR'][0,:,:,:] = wrf_qv + qv_pert\n"
   ]
  },
  {
   "cell_type": "code",
   "execution_count": null,
   "metadata": {},
   "outputs": [],
   "source": [
    "ncfile.close()\n"
   ]
  },
  {
   "cell_type": "code",
   "execution_count": null,
   "metadata": {},
   "outputs": [],
   "source": []
  }
 ],
 "metadata": {
  "kernelspec": {
   "display_name": "Python 3",
   "language": "python",
   "name": "python3"
  },
  "language_info": {
   "codemirror_mode": {
    "name": "ipython",
    "version": 3
   },
   "file_extension": ".py",
   "mimetype": "text/x-python",
   "name": "python",
   "nbconvert_exporter": "python",
   "pygments_lexer": "ipython3",
   "version": "3.8.5"
  }
 },
 "nbformat": 4,
 "nbformat_minor": 4
}
