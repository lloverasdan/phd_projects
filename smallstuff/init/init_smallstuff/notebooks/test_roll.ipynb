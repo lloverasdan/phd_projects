{
 "cells": [
  {
   "cell_type": "code",
   "execution_count": null,
   "metadata": {},
   "outputs": [],
   "source": [
    "import numpy as np\n",
    "import netCDF4 as nc\n",
    "from wrf import getvar, destagger, interplevel\n",
    "\n",
    "dx = 30. # km\n",
    "cent_length = 3000. # km"
   ]
  },
  {
   "cell_type": "code",
   "execution_count": null,
   "metadata": {},
   "outputs": [],
   "source": [
    "for i in range(3,6):\n",
    "    \n",
    "    print('Editing File for Day '+str(i))\n",
    "    rst_dir = '/p/work1/lloveras/many_times_adj/rst_8100km_rolled/wrfrst_d01_2021-01-0'+str(i)+'_00_00_00'\n",
    "\n",
    "    ncfile = nc.Dataset(rst_dir, 'r+')\n",
    "\n",
    "    psurf = np.asarray(getvar(ncfile,'P'))[0,:,:]\n",
    "    minp_ind = np.unravel_index(psurf.argmin(), psurf.shape)\n",
    "    cent_ind =  int(cent_length/dx)\n",
    "    rol_val = cent_ind - minp_ind[1]\n",
    "\n",
    "    for i, var_name in enumerate(ncfile.variables):\n",
    "        var_array = ncfile.variables[var_name][0]\n",
    "        if len(np.shape(var_array)) >= 2:\n",
    "            var_array = np.roll(var_array, rol_val, axis=-1)\n",
    "\n",
    "        ncfile.variables[var_name][0] = var_array\n",
    "\n",
    "    ncfile.close()\n"
   ]
  }
 ],
 "metadata": {
  "kernelspec": {
   "display_name": "Python 3",
   "language": "python",
   "name": "python3"
  },
  "language_info": {
   "codemirror_mode": {
    "name": "ipython",
    "version": 3
   },
   "file_extension": ".py",
   "mimetype": "text/x-python",
   "name": "python",
   "nbconvert_exporter": "python",
   "pygments_lexer": "ipython3",
   "version": "3.8.5"
  }
 },
 "nbformat": 4,
 "nbformat_minor": 4
}
