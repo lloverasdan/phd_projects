{
 "cells": [
  {
   "cell_type": "code",
   "execution_count": null,
   "metadata": {},
   "outputs": [],
   "source": [
    "import numpy as np\n",
    "import netCDF4 as nc\n",
    "from bwave_ideal_wrf import wrf_fields, write_wrfinputd01\n",
    "from wrf import getvar, destagger, interplevel\n",
    "\n",
    "nx_30km = 500\n",
    "nx_30km_trunc = 267\n",
    "ny_30km = 240\n",
    "dx_30km = 30000.\n",
    "\n",
    "nx_4km = 2000\n",
    "ny_4km = 1800\n",
    "dx_4km = 4000.\n",
    "\n",
    "rst_dir_4km = '/p/work1/lloveras/48h_adj_30km/rst_adj_4km/wrfrst_d01_2021-01-03_00_00_00'\n",
    "ncfile_4km = nc.Dataset(rst_dir_4km)\n",
    "\n",
    "rst_dir_30km = '/p/work1/lloveras/48h_adj_30km/rst_adj/wrfrst_d01_2021-01-03_00_00_00'\n",
    "ncfile_30km = nc.Dataset(rst_dir_30km)"
   ]
  },
  {
   "cell_type": "code",
   "execution_count": null,
   "metadata": {},
   "outputs": [],
   "source": [
    "list_4km = list(ncfile_4km.variables)"
   ]
  },
  {
   "cell_type": "code",
   "execution_count": null,
   "metadata": {},
   "outputs": [],
   "source": [
    "list_30km = list(ncfile_30km.variables)"
   ]
  },
  {
   "cell_type": "code",
   "execution_count": null,
   "metadata": {},
   "outputs": [],
   "source": [
    "list_4km == list_30km"
   ]
  },
  {
   "cell_type": "code",
   "execution_count": null,
   "metadata": {},
   "outputs": [],
   "source": [
    "list_4km"
   ]
  },
  {
   "cell_type": "code",
   "execution_count": null,
   "metadata": {},
   "outputs": [],
   "source": [
    "np.amax(ncfile_4km.variables['RQCCUTEN'][0,:,:])"
   ]
  },
  {
   "cell_type": "code",
   "execution_count": null,
   "metadata": {},
   "outputs": [],
   "source": []
  }
 ],
 "metadata": {
  "kernelspec": {
   "display_name": "Python 3",
   "language": "python",
   "name": "python3"
  },
  "language_info": {
   "codemirror_mode": {
    "name": "ipython",
    "version": 3
   },
   "file_extension": ".py",
   "mimetype": "text/x-python",
   "name": "python",
   "nbconvert_exporter": "python",
   "pygments_lexer": "ipython3",
   "version": "3.8.5"
  }
 },
 "nbformat": 4,
 "nbformat_minor": 4
}
