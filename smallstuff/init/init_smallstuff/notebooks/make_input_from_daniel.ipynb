{
 "cells": [
  {
   "cell_type": "code",
   "execution_count": null,
   "metadata": {},
   "outputs": [],
   "source": [
    "import numpy as np\n",
    "import netCDF4 as nc\n",
    "from wrf import getvar, destagger\n",
    "import os\n",
    "import sys\n",
    "module_path = os.path.abspath(os.path.join('..'))\n",
    "if module_path not in sys.path:\n",
    "    sys.path.append(module_path)\n",
    "from bwave_ideal_wrf import epv_jet, qgpv_pert, wrf_fields, write_wrfinputd01"
   ]
  },
  {
   "cell_type": "code",
   "execution_count": null,
   "metadata": {},
   "outputs": [],
   "source": [
    "nc_out = nc.Dataset('/p/work1/lloveras/adj_32km/input/files_for_daniel/bw_jul5_48h.nc')\n"
   ]
  },
  {
   "cell_type": "code",
   "execution_count": null,
   "metadata": {},
   "outputs": [],
   "source": [
    "title_str = \"OUTPUT FROM IDEAL V3.6.1 PREPROCESSOR\"\n",
    "time_str = \"2021-01-03_00:00:00\"\n",
    "\n",
    "nx_in = 250\n",
    "ny_in = 225\n",
    "dx_in = 32.\n",
    "hres_m_in = dx_in*1000.\n",
    "rdx_in = 1/hres_m_in\n",
    "rdy_in = 1/hres_m_in\n",
    "\n",
    "dt = 120.\n",
    "mp_physics = 17\n",
    "ra_lw_physics = 0\n",
    "ra_sw_physics = 0\n",
    "sf_sfclay_physics = 1\n",
    "sf_surface_physics = 0\n",
    "bl_pbl_physics = 1\n",
    "cu_physics = 0\n",
    "num_soil_layers = 5\n",
    "diff_opt = 1\n",
    "km_opt = 4\n",
    "damp_opt = 3\n",
    "dampcoef = 0.4\n",
    "khdif = 0.\n",
    "kvdif = 0.\n",
    "spec_bdy_width = 8\n",
    "sf_lake_physics = 0\n",
    "surface_input_source = 1\n",
    "hypsometric_opt = 0\n",
    "num_land_cat = 24\n",
    "num_soil_cat = 16\n",
    "ptop = 5000.\n",
    "nz = 100"
   ]
  },
  {
   "cell_type": "code",
   "execution_count": null,
   "metadata": {},
   "outputs": [],
   "source": [
    "u_field_in = np.asarray(nc_out.variables['U'][0])\n",
    "v_field_in = np.asarray(nc_out.variables['V'][0])\n",
    "t_in = np.asarray(nc_out.variables['T'][0])\n",
    "ph_in = np.asarray(nc_out.variables['PH'][0])\n",
    "phb_in = np.asarray(nc_out.variables['PHB'][0])\n",
    "p_in = np.asarray(nc_out.variables['P'][0])\n",
    "pb_in = np.asarray(nc_out.variables['PB'][0])\n",
    "mu_in = np.asarray(nc_out.variables['MU'][0])\n",
    "mub_in = np.asarray(nc_out.variables['MUB'][0])\n",
    "moist_in = np.asarray(nc_out.variables['QV'][0])\n",
    "tsk_in = np.asarray(nc_out.variables['TSK'][0])\n",
    "tmn_in = np.asarray(nc_out.variables['TMN'][0])\n",
    "t_init_in = np.asarray(nc_out.variables['T_INIT'][0])\n",
    "fnm = np.asarray(nc_out.variables['FNM'][0])\n",
    "fnp = np.asarray(nc_out.variables['FNP'][0])\n",
    "rdnw = np.asarray(nc_out.variables['RDNW'][0])\n",
    "rdn = np.asarray(nc_out.variables['RDN'][0])\n",
    "dnw = np.asarray(nc_out.variables['DNW'][0])\n",
    "dn = np.asarray(nc_out.variables['DN'][0])\n",
    "t_base = t_in[:,0,0]\n",
    "cfn = float(nc_out.variables['CFN'][0])\n",
    "cfn1 = float(nc_out.variables['CFN1'][0])\n",
    "cf1 = float(nc_out.variables['CF1'][0])\n",
    "cf2 = float(nc_out.variables['CF2'][0])\n",
    "cf3 = float(nc_out.variables['CF3'][0])\n",
    "u_base = u_field_in[:,0,0]\n",
    "v_base = v_field_in[:,0,0]\n",
    "qv_base = moist_in[:,0,0]\n",
    "znw = np.asarray(nc_out.variables['ZNW'][0])\n",
    "znu = np.asarray(nc_out.variables['ZNU'][0])\n"
   ]
  },
  {
   "cell_type": "code",
   "execution_count": null,
   "metadata": {},
   "outputs": [],
   "source": [
    "nc_in = nc.Dataset('/p/work1/lloveras/adj_32km/in_files/wrfin_ctl','w',format='NETCDF3_64BIT_OFFSET')\n",
    "nc_in = write_wrfinputd01.write(nc_in, nx_in, ny_in, nz, hres_m_in, title_str, \\\n",
    "        time_str, u_field_in, v_field_in, t_in, ph_in, phb_in, t_init_in, mu_in, mub_in, p_in, pb_in, \\\n",
    "        fnm, fnp, rdnw, rdn, dnw, dn, t_base, cfn, cfn1, rdx_in, rdy_in, cf1, \\\n",
    "        cf2, cf3, tsk_in, u_base, v_base, qv_base, tmn_in, moist_in, znw, znu, \\\n",
    "        diff_opt, km_opt, damp_opt, dampcoef, khdif, kvdif, mp_physics, \\\n",
    "        ra_lw_physics, ra_sw_physics, sf_sfclay_physics, sf_surface_physics, \\\n",
    "        bl_pbl_physics, cu_physics, sf_lake_physics, surface_input_source, \\\n",
    "        hypsometric_opt, dt, num_land_cat, num_soil_layers, num_soil_cat, \\\n",
    "        spec_bdy_width, ptop)\n",
    "\n",
    "nc_in.close()\n"
   ]
  }
 ],
 "metadata": {
  "kernelspec": {
   "display_name": "Python 3",
   "language": "python",
   "name": "python3"
  },
  "language_info": {
   "codemirror_mode": {
    "name": "ipython",
    "version": 3
   },
   "file_extension": ".py",
   "mimetype": "text/x-python",
   "name": "python",
   "nbconvert_exporter": "python",
   "pygments_lexer": "ipython3",
   "version": "3.8.5"
  }
 },
 "nbformat": 4,
 "nbformat_minor": 4
}
