{
 "cells": [
  {
   "cell_type": "code",
   "execution_count": null,
   "id": "86a68f36",
   "metadata": {},
   "outputs": [],
   "source": [
    "%pylab inline\n",
    "b = np.load('/p/work1/lloveras/adj_4km/processed/rossby/r_adj_48h_10.npy')"
   ]
  },
  {
   "cell_type": "code",
   "execution_count": null,
   "id": "ff7641c2",
   "metadata": {},
   "outputs": [],
   "source": [
    "plt.plot(b)"
   ]
  }
 ],
 "metadata": {
  "kernelspec": {
   "display_name": "Python 3 (ipykernel)",
   "language": "python",
   "name": "python3"
  },
  "language_info": {
   "codemirror_mode": {
    "name": "ipython",
    "version": 3
   },
   "file_extension": ".py",
   "mimetype": "text/x-python",
   "name": "python",
   "nbconvert_exporter": "python",
   "pygments_lexer": "ipython3",
   "version": "3.8.15"
  }
 },
 "nbformat": 4,
 "nbformat_minor": 5
}
