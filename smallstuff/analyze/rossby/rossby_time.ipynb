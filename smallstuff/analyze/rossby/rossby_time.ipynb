{
 "cells": [
  {
   "cell_type": "code",
   "execution_count": null,
   "id": "fe453a39",
   "metadata": {},
   "outputs": [],
   "source": [
    "%pylab inline\n",
    "import numpy as np\n",
    "from matplotlib.ticker import MultipleLocator\n",
    "import warnings\n",
    "warnings.filterwarnings('ignore')\n",
    "import matplotlib.transforms as mtransforms"
   ]
  },
  {
   "cell_type": "code",
   "execution_count": null,
   "id": "99334990",
   "metadata": {},
   "outputs": [],
   "source": [
    "ti = np.asarray([3,4,5,6,9,12,15,18,21,24,27,30,33,36,39,42,45,48,54,60,66,72,78,84,90,96])\n",
    "\n",
    "r_ctl48 = np.load('/p/work1/lloveras/adj_4km/processed_june/r_ctl_48h.npy')[2:]\n",
    "bal_ctl48 = np.load('/p/work1/lloveras/adj_4km/processed_june/bal_ctl_48h.npy')[2:]\n",
    "\n",
    "r_adj48 = np.load('/p/work1/lloveras/adj_4km/processed/rossby/r_adj_48h.npy')[2:]\n",
    "r_adj48_10 = np.load('/p/work1/lloveras/adj_4km/processed/rossby/r_adj_48h_10.npy')[2:]\n",
    "r_adj48_100 = np.load('/p/work1/lloveras/adj_4km/processed/rossby/r_adj_48h_100.npy')[2:]\n",
    "\n",
    "r_wave48 = np.load('/p/work1/lloveras/adj_4km/processed/rossby/r_wave_48h.npy')[2:]\n",
    "r_wave48_10 = np.load('/p/work1/lloveras/adj_4km/processed/rossby/r_wave_48h_10.npy')[2:]\n",
    "r_wave48_100 = np.load('/p/work1/lloveras/adj_4km/processed/rossby/r_wave_48h_100.npy')[2:]\n",
    "\n",
    "bal_adj48 = np.load('/p/work1/lloveras/adj_4km/processed/rossby/bal_adj_48h.npy')[2:]\n",
    "bal_adj48_10 = np.load('/p/work1/lloveras/adj_4km/processed/rossby/bal_adj_48h_10.npy')[2:]\n",
    "bal_adj48_100 = np.load('/p/work1/lloveras/adj_4km/processed/rossby/bal_adj_48h_100.npy')[2:]\n",
    "\n",
    "bal_wave48 = np.load('/p/work1/lloveras/adj_4km/processed/rossby/bal_wave_48h.npy')[2:]\n",
    "bal_wave48_10 = np.load('/p/work1/lloveras/adj_4km/processed/rossby/bal_wave_48h_10.npy')[2:]\n",
    "bal_wave48_100 = np.load('/p/work1/lloveras/adj_4km/processed/rossby/bal_wave_48h_100.npy')[2:]\n"
   ]
  },
  {
   "cell_type": "code",
   "execution_count": null,
   "id": "4bfd1454",
   "metadata": {},
   "outputs": [],
   "source": [
    "fig, axd = plt.subplot_mosaic([['left','right']],\n",
    "                              constrained_layout=True, figsize=(15.0,6.0),\n",
    "                              gridspec_kw={'width_ratios':[1,1]})\n",
    "\n",
    "trans = mtransforms.ScaledTranslation(1/10, -1/10, fig.dpi_scale_trans)\n",
    "\n",
    "axd['left'].plot(ti,bal_adj48,color='r',linewidth=3.0,label='Adjoint')\n",
    "axd['left'].plot(ti,bal_wave48,color='b',linewidth=3.0,label='Wave')\n",
    "axd['left'].plot(ti,bal_ctl48,color='k',linewidth=3.0,label='Control')\n",
    "axd['left'].plot(ti,bal_adj48_10,color='r',linewidth=3.0,linestyle='dashed')\n",
    "axd['left'].plot(ti,bal_wave48_10,color='b',linewidth=3.0,linestyle='dashed')\n",
    "axd['left'].plot(ti,bal_adj48_100,color='r',linewidth=3.0,linestyle='dotted')\n",
    "axd['left'].plot(ti,bal_wave48_100,color='b',linewidth=3.0,linestyle='dotted')\n",
    "axd['left'].xaxis.set_major_locator(MultipleLocator(12))\n",
    "axd['left'].xaxis.set_minor_locator(MultipleLocator(6))\n",
    "axd['left'].tick_params(axis='both',labelsize=22,which='both',direction='in',length=4,width=1)\n",
    "axd['left'].grid(linewidth=1.5)\n",
    "axd['left'].set_xlabel('Lead Time (h)',labelpad=6,fontsize=20)\n",
    "axd['left'].set_ylabel('Ratio',labelpad=6,fontsize=20)\n",
    "axd['left'].legend(loc=0,prop={\"size\":18})\n",
    "axd['left'].set_ylim([-0.2,2.0])\n",
    "axd['left'].set_yticks([0,0.5,1.0,1.5])\n",
    "axd['left'].yaxis.set_minor_locator(MultipleLocator(0.25))\n",
    "axd['left'].set_xlim([-4,100])\n",
    "axd['left'].text(0.0, 1.0, '(a) Ageostrophic/Geostrophic',transform=axd['left'].transAxes + trans,\n",
    "            fontsize=20, verticalalignment='top',\n",
    "            bbox=dict(facecolor='white', edgecolor='none', pad=2))\n",
    "\n",
    "axd['right'].plot(ti,r_adj48,color='r',linewidth=3.0,label='Adjoint')\n",
    "axd['right'].plot(ti,r_wave48,color='b',linewidth=3.0,label='Wave')\n",
    "axd['right'].plot(ti,r_ctl48,color='k',linewidth=3.0,label='Control')\n",
    "axd['right'].plot(ti,r_adj48_10,color='r',linewidth=3.0,linestyle='dashed')\n",
    "axd['right'].plot(ti,r_wave48_10,color='b',linewidth=3.0,linestyle='dashed')\n",
    "axd['right'].plot(ti,r_adj48_100,color='r',linewidth=3.0,linestyle='dotted')\n",
    "axd['right'].plot(ti,r_wave48_100,color='b',linewidth=3.0,linestyle='dotted')\n",
    "axd['right'].xaxis.set_major_locator(MultipleLocator(12))\n",
    "axd['right'].xaxis.set_minor_locator(MultipleLocator(6))\n",
    "axd['right'].tick_params(axis='both',labelsize=22,which='both',direction='in',length=4,width=1)\n",
    "axd['right'].grid(linewidth=1.5)\n",
    "axd['right'].set_xlabel('Lead Time (h)',labelpad=6,fontsize=20)\n",
    "axd['right'].set_ylim([-0.2,2.0])\n",
    "axd['right'].set_xlim([-4,100])\n",
    "axd['right'].set_yticks([0,0.5,1.0,1.5])\n",
    "axd['right'].yaxis.set_minor_locator(MultipleLocator(0.25))\n",
    "axd['right'].set_yticklabels(['','','',''])\n",
    "axd['right'].text(0.0, 1.0, '(b) Divergence/Vorticity',transform=axd['right'].transAxes + trans,\n",
    "            fontsize=20, verticalalignment='top',\n",
    "            bbox=dict(facecolor='white', edgecolor='none', pad=2))\n",
    "\n",
    "plt.savefig('/p/work1/lloveras/adj_4km/figs_june/rossby_ratios.pdf',bbox_inches='tight')\n"
   ]
  }
 ],
 "metadata": {
  "kernelspec": {
   "display_name": "Python 3",
   "language": "python",
   "name": "python3"
  },
  "language_info": {
   "codemirror_mode": {
    "name": "ipython",
    "version": 3
   },
   "file_extension": ".py",
   "mimetype": "text/x-python",
   "name": "python",
   "nbconvert_exporter": "python",
   "pygments_lexer": "ipython3",
   "version": "3.7.10"
  }
 },
 "nbformat": 4,
 "nbformat_minor": 5
}
