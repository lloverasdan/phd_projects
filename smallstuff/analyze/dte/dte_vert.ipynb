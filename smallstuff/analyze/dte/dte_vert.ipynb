{
 "cells": [
  {
   "cell_type": "code",
   "execution_count": null,
   "id": "2217909a",
   "metadata": {},
   "outputs": [],
   "source": [
    "import numpy as np\n",
    "import matplotlib.pyplot as plt\n",
    "import matplotlib.transforms as mtransforms\n",
    "\n",
    "levs = np.arange(950,40,-10)\n",
    "\n",
    "dte_adj = np.load('/p/work1/lloveras/adj_4km/processed/dte/vertical_profiles/dte_adj48h.npy')/2\n",
    "dte_adj_10 = np.load('/p/work1/lloveras/adj_4km/processed/dte/vertical_profiles/dte_adj48h_10.npy')/2\n",
    "dte_adj_100 = np.load('/p/work1/lloveras/adj_4km/processed/dte/vertical_profiles/dte_adj48h_100.npy')/2\n",
    "\n",
    "dte_wave = np.load('/p/work1/lloveras/adj_4km/processed/dte/vertical_profiles/dte_wave48h.npy')/2\n",
    "dte_wave_10 = np.load('/p/work1/lloveras/adj_4km/processed/dte/vertical_profiles/dte_wave48h_10.npy')/2\n",
    "dte_wave_100 = np.load('/p/work1/lloveras/adj_4km/processed/dte/vertical_profiles/dte_wave48h_100.npy')/2\n"
   ]
  },
  {
   "cell_type": "code",
   "execution_count": null,
   "id": "2c9dfda5",
   "metadata": {},
   "outputs": [],
   "source": [
    "fig,axd = plt.subplot_mosaic([['left','right']],figsize=(7.7,4.0),dpi=200,constrained_layout=True)\n",
    "\n",
    "trans1 = mtransforms.ScaledTranslation(1/2.5, -1/12, fig.dpi_scale_trans)\n",
    "trans2 = mtransforms.ScaledTranslation(1/2, -1/12, fig.dpi_scale_trans)\n",
    "\n",
    "axd['left'].plot(dte_adj/1e6,levs,color='r',label='Adjoint')\n",
    "axd['left'].plot(dte_wave/1e6,levs,color='b',label='Wave')\n",
    "axd['left'].plot(dte_adj_10/1e6,levs,color='r',linestyle='dashed')\n",
    "axd['left'].plot(dte_wave_10/1e6,levs,color='b',linestyle='dashed')\n",
    "axd['left'].plot(dte_adj_100/1e6,levs,color='r',linestyle='dotted')\n",
    "axd['left'].plot(dte_wave_100/1e6,levs,color='b',linestyle='dotted')\n",
    "axd['left'].set_xlabel('DTE (10$^6$ m$^2$ s$^{-2}$)',fontsize=12)\n",
    "axd['left'].set_ylabel('Pressure (hPa)',fontsize=12)\n",
    "axd['left'].legend()\n",
    "axd['left'].set_yticks(np.linspace(1000,0,11))\n",
    "axd['left'].invert_yaxis()\n",
    "axd['left'].grid()\n",
    "axd['left'].set_xlim([-0.5,6.5])\n",
    "axd['left'].tick_params(axis='both',labelsize=12,which='both',direction='in',length=4,width=1)\n",
    "axd['left'].text(0.0, 1.0, '(a)',transform=axd['left'].transAxes + trans1,\n",
    "            fontsize=12, verticalalignment='top',\n",
    "            bbox=dict(facecolor='none', edgecolor='none', pad=2))\n",
    "\n",
    "axd['right'].plot(dte_wave/1e5,levs,color='b')\n",
    "axd['right'].plot(dte_adj_10/1e5,levs,color='r',linestyle='dashed')\n",
    "axd['right'].plot(dte_wave_10/1e5,levs,color='b',linestyle='dashed')\n",
    "axd['right'].plot(dte_adj_100/1e5,levs,color='r',linestyle='dotted')\n",
    "axd['right'].plot(dte_wave_100/1e5,levs,color='b',linestyle='dotted')\n",
    "axd['right'].set_xlabel('DTE (10$^5$ m$^2$ s$^{-2}$)',fontsize=12)\n",
    "axd['right'].set_yticks(np.linspace(1000,0,11))\n",
    "axd['right'].set_yticklabels(['','','','','','','','','','',''])\n",
    "axd['right'].invert_yaxis()\n",
    "axd['right'].grid()\n",
    "axd['right'].set_xlim([-0.2,2.2])\n",
    "axd['right'].tick_params(axis='both',labelsize=12,which='both',direction='in',length=4,width=1)\n",
    "axd['right'].text(0.0, 1.0, '(b)',transform=axd['right'].transAxes + trans2,\n",
    "            fontsize=12, verticalalignment='top',\n",
    "            bbox=dict(facecolor='none', edgecolor='none', pad=2))\n",
    "\n",
    "plt.savefig('/p/work1/lloveras/adj_4km/figs/new_figs/dte_vert.pdf',bbox_inches='tight')\n"
   ]
  },
  {
   "cell_type": "code",
   "execution_count": null,
   "id": "f9f1b695",
   "metadata": {},
   "outputs": [],
   "source": []
  }
 ],
 "metadata": {
  "kernelspec": {
   "display_name": "Python 3 (ipykernel)",
   "language": "python",
   "name": "python3"
  },
  "language_info": {
   "codemirror_mode": {
    "name": "ipython",
    "version": 3
   },
   "file_extension": ".py",
   "mimetype": "text/x-python",
   "name": "python",
   "nbconvert_exporter": "python",
   "pygments_lexer": "ipython3",
   "version": "3.8.15"
  }
 },
 "nbformat": 4,
 "nbformat_minor": 5
}
