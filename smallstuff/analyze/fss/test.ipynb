{
 "cells": [
  {
   "cell_type": "code",
   "execution_count": null,
   "id": "d651d00e",
   "metadata": {},
   "outputs": [],
   "source": [
    "%pylab inline\n",
    "from matplotlib.ticker import MultipleLocator\n",
    "ctl = np.load('/p/work1/lloveras/adj_4km/processed/fss/grids_48h.npy')\n",
    "adj = np.load('/p/work1/lloveras/adj_4km/processed/fss/grids_adj48h.npy')\n",
    "neg = np.load('/p/work1/lloveras/adj_4km/processed/fss/grids_adj48h_neg.npy')"
   ]
  },
  {
   "cell_type": "code",
   "execution_count": null,
   "id": "c9a79579",
   "metadata": {},
   "outputs": [],
   "source": [
    "fig, axd = plt.subplot_mosaic([['left']],\n",
    "                              constrained_layout=True, figsize=(5.0,3.2),dpi=200)\n",
    "\n",
    "times = np.arange(16)*3 + 3\n",
    "axd['left'].plot(times,ctl,label='Control')\n",
    "axd['left'].plot(times,adj,label='Adjoint')\n",
    "axd['left'].plot(times,neg,label='- Adjoint')\n",
    "axd['left'].set_ylim(-1000,12000)\n",
    "axd['left'].set_xlabel('Time (h)')\n",
    "axd['left'].set_ylabel('Grid points > 1 mm/h')\n",
    "axd['left'].legend()\n",
    "axd['left'].grid()\n",
    "axd['left'].xaxis.set_major_locator(MultipleLocator(6))\n",
    "axd['left'].xaxis.set_minor_locator(MultipleLocator(3))\n",
    "\n",
    "plt.savefig('/p/work1/lloveras/adj_4km/figs/new_figs/grid_points.pdf',bbox_inches='tight')"
   ]
  },
  {
   "cell_type": "code",
   "execution_count": null,
   "id": "f8dece44",
   "metadata": {},
   "outputs": [],
   "source": []
  }
 ],
 "metadata": {
  "kernelspec": {
   "display_name": "Python 3",
   "language": "python",
   "name": "python3"
  },
  "language_info": {
   "codemirror_mode": {
    "name": "ipython",
    "version": 3
   },
   "file_extension": ".py",
   "mimetype": "text/x-python",
   "name": "python",
   "nbconvert_exporter": "python",
   "pygments_lexer": "ipython3",
   "version": "3.7.10"
  }
 },
 "nbformat": 4,
 "nbformat_minor": 5
}
